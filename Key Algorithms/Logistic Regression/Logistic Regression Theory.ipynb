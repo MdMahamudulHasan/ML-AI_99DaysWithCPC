{
 "cells": [
  {
   "cell_type": "markdown",
   "id": "4820e142",
   "metadata": {},
   "source": [
    "#### We want t o learn about Logistic Regression as a method for Classification.<br>Some examples of classification problems:<br>\n",
    "-> Spam versus \"ham\" emails<br>\n",
    "-> Loan Default(yes/no)<br>\n",
    "-> Disease Diagnosis<br>\n",
    "Above were all examples of Binary Classification"
   ]
  },
  {
   "cell_type": "markdown",
   "id": "feb4c256",
   "metadata": {},
   "source": [
    "The convention for binary classification is to have two classes 0 and 1<br>We can't use a normal linear regression model on binary groups. It won't lead to a good fit.<br>Instead we can transform our linear regression to a logistic regression curve.<br> The Sigmoid (aka Logistic) Function in any value and outputs it to be between 0 and 1.This means we can take our Linear Regression Solution and place it into Sigmoid Function.<br>This results in a probability from 0 to 1 of belonging in the 1 class."
   ]
  },
  {
   "cell_type": "markdown",
   "id": "a9b0fb59",
   "metadata": {},
   "source": [
    "After you train a logistic regression model on some training data, you will evaluate your model's performance on some test data.<br>You can use a confusion matrix to evaluate classification models."
   ]
  },
  {
   "cell_type": "markdown",
   "id": "ed1401d6",
   "metadata": {},
   "source": [
    "### Confusion Matrix\n",
    "Basic Terminology:<br>\n",
    "-> True Positives (TP)<br>\n",
    "-> True Negatives (TN)<br>\n",
    "-> False Positives (FP)<br>\n",
    "-> False Negatives (FN)<br><br>\n",
    "Accuracy:<br>\n",
    "-> Overall, how often is it correct?<br>\n",
    "-> ( TP + TN ) / total = Accuracy<br><br>\n",
    "Misclassification Rate (Error Rate):<br>\n",
    "-> Overall, how often is it wrong? <br>\n",
    "-> ( FP + FN ) / total = Error Rate<br><br>\n",
    "###### False Positive is also Known as Type | Error<br>False Negative is also known as Type || Error<br>"
   ]
  },
  {
   "cell_type": "code",
   "execution_count": null,
   "id": "9e351866",
   "metadata": {},
   "outputs": [],
   "source": []
  }
 ],
 "metadata": {
  "kernelspec": {
   "display_name": "Python 3 (ipykernel)",
   "language": "python",
   "name": "python3"
  },
  "language_info": {
   "codemirror_mode": {
    "name": "ipython",
    "version": 3
   },
   "file_extension": ".py",
   "mimetype": "text/x-python",
   "name": "python",
   "nbconvert_exporter": "python",
   "pygments_lexer": "ipython3",
   "version": "3.10.9"
  }
 },
 "nbformat": 4,
 "nbformat_minor": 5
}
