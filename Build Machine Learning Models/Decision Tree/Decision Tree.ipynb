{
 "cells": [
  {
   "cell_type": "markdown",
   "id": "71397354",
   "metadata": {},
   "source": [
    "## Decision Tree Classification"
   ]
  },
  {
   "cell_type": "markdown",
   "id": "8431001a",
   "metadata": {},
   "source": [
    "#### Importing the libraries"
   ]
  },
  {
   "cell_type": "code",
   "execution_count": 1,
   "id": "e628cb5d",
   "metadata": {},
   "outputs": [],
   "source": [
    "import pandas as pd\n",
    "import matplotlib.pyplot as plt\n",
    "%matplotlib inline"
   ]
  },
  {
   "cell_type": "markdown",
   "id": "36c601a2",
   "metadata": {},
   "source": [
    "#### Importing the dataset"
   ]
  },
  {
   "cell_type": "code",
   "execution_count": 10,
   "id": "ea8f5984",
   "metadata": {},
   "outputs": [],
   "source": [
    "dataset = pd.read_csv('Social_Network_Ads.csv')\n",
    "X = dataset.iloc[:, :-1].values\n",
    "y = dataset.iloc[:, -1].values"
   ]
  },
  {
   "cell_type": "markdown",
   "id": "18482e42",
   "metadata": {},
   "source": [
    "#### Feature Scalling"
   ]
  },
  {
   "cell_type": "code",
   "execution_count": 14,
   "id": "cfbc30cd",
   "metadata": {},
   "outputs": [],
   "source": [
    "from sklearn.preprocessing import StandardScaler"
   ]
  },
  {
   "cell_type": "code",
   "execution_count": 15,
   "id": "1020b0b2",
   "metadata": {},
   "outputs": [],
   "source": [
    "scaler = StandardScaler()"
   ]
  },
  {
   "cell_type": "code",
   "execution_count": 16,
   "id": "afd49d92",
   "metadata": {},
   "outputs": [
    {
     "data": {
      "text/html": [
       "<style>#sk-container-id-1 {color: black;background-color: white;}#sk-container-id-1 pre{padding: 0;}#sk-container-id-1 div.sk-toggleable {background-color: white;}#sk-container-id-1 label.sk-toggleable__label {cursor: pointer;display: block;width: 100%;margin-bottom: 0;padding: 0.3em;box-sizing: border-box;text-align: center;}#sk-container-id-1 label.sk-toggleable__label-arrow:before {content: \"▸\";float: left;margin-right: 0.25em;color: #696969;}#sk-container-id-1 label.sk-toggleable__label-arrow:hover:before {color: black;}#sk-container-id-1 div.sk-estimator:hover label.sk-toggleable__label-arrow:before {color: black;}#sk-container-id-1 div.sk-toggleable__content {max-height: 0;max-width: 0;overflow: hidden;text-align: left;background-color: #f0f8ff;}#sk-container-id-1 div.sk-toggleable__content pre {margin: 0.2em;color: black;border-radius: 0.25em;background-color: #f0f8ff;}#sk-container-id-1 input.sk-toggleable__control:checked~div.sk-toggleable__content {max-height: 200px;max-width: 100%;overflow: auto;}#sk-container-id-1 input.sk-toggleable__control:checked~label.sk-toggleable__label-arrow:before {content: \"▾\";}#sk-container-id-1 div.sk-estimator input.sk-toggleable__control:checked~label.sk-toggleable__label {background-color: #d4ebff;}#sk-container-id-1 div.sk-label input.sk-toggleable__control:checked~label.sk-toggleable__label {background-color: #d4ebff;}#sk-container-id-1 input.sk-hidden--visually {border: 0;clip: rect(1px 1px 1px 1px);clip: rect(1px, 1px, 1px, 1px);height: 1px;margin: -1px;overflow: hidden;padding: 0;position: absolute;width: 1px;}#sk-container-id-1 div.sk-estimator {font-family: monospace;background-color: #f0f8ff;border: 1px dotted black;border-radius: 0.25em;box-sizing: border-box;margin-bottom: 0.5em;}#sk-container-id-1 div.sk-estimator:hover {background-color: #d4ebff;}#sk-container-id-1 div.sk-parallel-item::after {content: \"\";width: 100%;border-bottom: 1px solid gray;flex-grow: 1;}#sk-container-id-1 div.sk-label:hover label.sk-toggleable__label {background-color: #d4ebff;}#sk-container-id-1 div.sk-serial::before {content: \"\";position: absolute;border-left: 1px solid gray;box-sizing: border-box;top: 0;bottom: 0;left: 50%;z-index: 0;}#sk-container-id-1 div.sk-serial {display: flex;flex-direction: column;align-items: center;background-color: white;padding-right: 0.2em;padding-left: 0.2em;position: relative;}#sk-container-id-1 div.sk-item {position: relative;z-index: 1;}#sk-container-id-1 div.sk-parallel {display: flex;align-items: stretch;justify-content: center;background-color: white;position: relative;}#sk-container-id-1 div.sk-item::before, #sk-container-id-1 div.sk-parallel-item::before {content: \"\";position: absolute;border-left: 1px solid gray;box-sizing: border-box;top: 0;bottom: 0;left: 50%;z-index: -1;}#sk-container-id-1 div.sk-parallel-item {display: flex;flex-direction: column;z-index: 1;position: relative;background-color: white;}#sk-container-id-1 div.sk-parallel-item:first-child::after {align-self: flex-end;width: 50%;}#sk-container-id-1 div.sk-parallel-item:last-child::after {align-self: flex-start;width: 50%;}#sk-container-id-1 div.sk-parallel-item:only-child::after {width: 0;}#sk-container-id-1 div.sk-dashed-wrapped {border: 1px dashed gray;margin: 0 0.4em 0.5em 0.4em;box-sizing: border-box;padding-bottom: 0.4em;background-color: white;}#sk-container-id-1 div.sk-label label {font-family: monospace;font-weight: bold;display: inline-block;line-height: 1.2em;}#sk-container-id-1 div.sk-label-container {text-align: center;}#sk-container-id-1 div.sk-container {/* jupyter's `normalize.less` sets `[hidden] { display: none; }` but bootstrap.min.css set `[hidden] { display: none !important; }` so we also need the `!important` here to be able to override the default hidden behavior on the sphinx rendered scikit-learn.org. See: https://github.com/scikit-learn/scikit-learn/issues/21755 */display: inline-block !important;position: relative;}#sk-container-id-1 div.sk-text-repr-fallback {display: none;}</style><div id=\"sk-container-id-1\" class=\"sk-top-container\"><div class=\"sk-text-repr-fallback\"><pre>StandardScaler()</pre><b>In a Jupyter environment, please rerun this cell to show the HTML representation or trust the notebook. <br />On GitHub, the HTML representation is unable to render, please try loading this page with nbviewer.org.</b></div><div class=\"sk-container\" hidden><div class=\"sk-item\"><div class=\"sk-estimator sk-toggleable\"><input class=\"sk-toggleable__control sk-hidden--visually\" id=\"sk-estimator-id-1\" type=\"checkbox\" checked><label for=\"sk-estimator-id-1\" class=\"sk-toggleable__label sk-toggleable__label-arrow\">StandardScaler</label><div class=\"sk-toggleable__content\"><pre>StandardScaler()</pre></div></div></div></div></div>"
      ],
      "text/plain": [
       "StandardScaler()"
      ]
     },
     "execution_count": 16,
     "metadata": {},
     "output_type": "execute_result"
    }
   ],
   "source": [
    "scaler.fit(X)"
   ]
  },
  {
   "cell_type": "code",
   "execution_count": 17,
   "id": "f75da7b7",
   "metadata": {},
   "outputs": [],
   "source": [
    "standardized_data = scaler.transform(X)"
   ]
  },
  {
   "cell_type": "code",
   "execution_count": 18,
   "id": "06995628",
   "metadata": {},
   "outputs": [
    {
     "name": "stdout",
     "output_type": "stream",
     "text": [
      "[[-1.78179743 -1.49004624]\n",
      " [-0.25358736 -1.46068138]\n",
      " [-1.11320552 -0.78528968]\n",
      " [-1.01769239 -0.37418169]\n",
      " [-1.78179743  0.18375059]\n",
      " [-1.01769239 -0.34481683]\n",
      " [-1.01769239  0.41866944]\n",
      " [-0.54012675  2.35674998]\n",
      " [-1.20871865 -1.07893824]\n",
      " [-0.25358736 -0.13926283]\n",
      " [-1.11320552  0.30121002]\n",
      " [-1.11320552 -0.52100597]\n",
      " [-1.6862843   0.47739916]\n",
      " [-0.54012675 -1.51941109]\n",
      " [-1.87731056  0.35993973]\n",
      " [-0.82666613  0.30121002]\n",
      " [ 0.89257019 -1.3138571 ]\n",
      " [ 0.70154394 -1.28449224]\n",
      " [ 0.79705706 -1.22576253]\n",
      " [ 0.98808332 -1.19639767]\n",
      " [ 0.70154394 -1.40195167]\n",
      " [ 0.89257019 -0.60910054]\n",
      " [ 0.98808332 -0.84401939]\n",
      " [ 0.70154394 -1.40195167]\n",
      " [ 0.79705706 -1.37258681]\n",
      " [ 0.89257019 -1.46068138]\n",
      " [ 1.08359645 -1.22576253]\n",
      " [ 0.89257019 -1.16703281]\n",
      " [-0.82666613 -0.78528968]\n",
      " [-0.63563988 -1.51941109]\n",
      " [-0.63563988  0.12502088]\n",
      " [-1.01769239  1.97500684]\n",
      " [-1.59077117 -1.5781408 ]\n",
      " [-0.92217926 -0.75592482]\n",
      " [-1.01769239  0.59485858]\n",
      " [-0.25358736 -1.25512738]\n",
      " [-0.44461362 -1.22576253]\n",
      " [-0.73115301 -0.60910054]\n",
      " [-1.11320552  0.06629116]\n",
      " [-1.01769239 -1.13766796]\n",
      " [-1.01769239 -1.54877595]\n",
      " [-0.44461362 -0.55037082]\n",
      " [-0.25358736  1.123426  ]\n",
      " [-0.73115301 -1.60750566]\n",
      " [-0.92217926  0.41866944]\n",
      " [-1.39974491 -1.46068138]\n",
      " [-1.20871865  0.27184516]\n",
      " [-1.01769239 -0.46227625]\n",
      " [-0.73115301  1.91627713]\n",
      " [-0.63563988  0.56549373]\n",
      " [-1.30423178 -1.1083031 ]\n",
      " [-1.87731056 -0.75592482]\n",
      " [-0.82666613  0.38930459]\n",
      " [-0.25358736 -1.37258681]\n",
      " [-1.01769239 -0.34481683]\n",
      " [-1.30423178 -0.4329114 ]\n",
      " [-1.39974491 -0.63846539]\n",
      " [-0.92217926  0.27184516]\n",
      " [-1.49525804 -1.51941109]\n",
      " [-0.54012675  1.38770971]\n",
      " [-1.01769239 -1.46068138]\n",
      " [-1.20871865  0.50676401]\n",
      " [-1.39974491 -0.10989798]\n",
      " [-0.54012675  1.47580428]\n",
      " [ 2.03872775  0.38930459]\n",
      " [-1.30423178 -0.34481683]\n",
      " [-1.30423178 -1.49004624]\n",
      " [-1.39974491  0.35993973]\n",
      " [-1.49525804 -0.19799255]\n",
      " [-0.63563988 -0.05116826]\n",
      " [-1.20871865  0.30121002]\n",
      " [-1.30423178 -1.25512738]\n",
      " [-1.6862843  -1.37258681]\n",
      " [-0.44461362  1.27025028]\n",
      " [-0.54012675 -1.51941109]\n",
      " [-0.34910049  1.24088543]\n",
      " [-1.87731056 -0.52100597]\n",
      " [-1.49525804 -1.25512738]\n",
      " [-0.92217926  0.50676401]\n",
      " [-1.11320552 -1.54877595]\n",
      " [-0.73115301  0.30121002]\n",
      " [ 0.12846516 -0.81465453]\n",
      " [-1.6862843  -0.60910054]\n",
      " [-0.25358736  0.53612887]\n",
      " [-0.73115301 -0.2273574 ]\n",
      " [-0.63563988  1.41707457]\n",
      " [-1.30423178 -0.4329114 ]\n",
      " [-0.92217926  0.4480343 ]\n",
      " [-1.11320552  0.33057487]\n",
      " [-0.25358736 -0.57973568]\n",
      " [-1.49525804  0.33057487]\n",
      " [-0.73115301  1.35834485]\n",
      " [-1.11320552 -1.60750566]\n",
      " [-0.82666613 -1.22576253]\n",
      " [-0.82666613  0.38930459]\n",
      " [-0.25358736 -0.75592482]\n",
      " [-0.25358736 -1.3138571 ]\n",
      " [-0.92217926  1.56389885]\n",
      " [-0.25358736  0.09565602]\n",
      " [-0.92217926 -0.96147882]\n",
      " [-1.01769239  0.53612887]\n",
      " [-0.92217926 -0.31545197]\n",
      " [-0.54012675  0.47739916]\n",
      " [-0.44461362  2.32738512]\n",
      " [-1.78179743 -1.43131652]\n",
      " [-1.59077117  0.06629116]\n",
      " [-1.11320552 -1.02020853]\n",
      " [-1.01769239  0.56549373]\n",
      " [-1.11320552  0.47739916]\n",
      " [ 0.03295203  0.30121002]\n",
      " [ 0.12846516  0.03692631]\n",
      " [-0.0625611   0.03692631]\n",
      " [ 0.03295203 -0.25672226]\n",
      " [-0.0625611  -0.4329114 ]\n",
      " [ 0.41500455  0.30121002]\n",
      " [ 0.22397829 -0.37418169]\n",
      " [-0.25358736  0.15438573]\n",
      " [-0.15807423 -0.52100597]\n",
      " [ 0.22397829 -0.31545197]\n",
      " [ 0.31949142 -0.31545197]\n",
      " [-0.15807423  0.15438573]\n",
      " [-0.0625611   0.06629116]\n",
      " [ 0.22397829  0.15438573]\n",
      " [-0.25358736 -0.49164111]\n",
      " [ 0.31949142 -0.55037082]\n",
      " [ 0.12846516 -0.25672226]\n",
      " [ 0.41500455 -0.13926283]\n",
      " [-1.11320552 -1.1083031 ]\n",
      " [-0.73115301 -1.54877595]\n",
      " [-1.11320552  0.41866944]\n",
      " [-0.63563988 -0.34481683]\n",
      " [-0.44461362 -1.13766796]\n",
      " [-0.73115301  0.50676401]\n",
      " [-1.59077117 -0.05116826]\n",
      " [-0.92217926 -0.4329114 ]\n",
      " [-1.39974491 -0.19799255]\n",
      " [-1.6862843   0.35993973]\n",
      " [-0.73115301  1.09406114]\n",
      " [-0.92217926 -0.31545197]\n",
      " [-1.78179743 -1.3138571 ]\n",
      " [-1.78179743  0.4480343 ]\n",
      " [-1.87731056 -0.05116826]\n",
      " [-0.25358736 -0.31545197]\n",
      " [-0.73115301  0.56549373]\n",
      " [-0.34910049 -1.3138571 ]\n",
      " [-1.30423178  0.56549373]\n",
      " [-1.01769239  0.77104772]\n",
      " [ 0.31949142 -1.16703281]\n",
      " [-0.82666613 -0.25672226]\n",
      " [-1.6862843   0.12502088]\n",
      " [-1.11320552 -1.60750566]\n",
      " [ 0.31949142 -0.72655996]\n",
      " [-0.63563988  0.18375059]\n",
      " [-0.15807423 -0.57973568]\n",
      " [ 0.22397829 -0.66783025]\n",
      " [-0.63563988 -1.60750566]\n",
      " [ 0.79705706 -0.31545197]\n",
      " [-0.82666613  0.15438573]\n",
      " [-1.11320552 -1.16703281]\n",
      " [-0.54012675  1.91627713]\n",
      " [-0.54012675  0.88850715]\n",
      " [-1.20871865  0.59485858]\n",
      " [-0.0625611  -1.07893824]\n",
      " [-0.25358736 -0.93211396]\n",
      " [-0.44461362 -0.02180341]\n",
      " [-1.87731056  0.47739916]\n",
      " [-1.49525804 -0.4329114 ]\n",
      " [-0.25358736  0.03692631]\n",
      " [-0.82666613  2.29802026]\n",
      " [-0.82666613 -0.66783025]\n",
      " [-1.59077117  0.53612887]\n",
      " [-0.34910049  1.32898   ]\n",
      " [-1.11320552  1.41707457]\n",
      " [-0.34910049 -0.78528968]\n",
      " [-0.34910049  0.06629116]\n",
      " [-1.39974491 -1.22576253]\n",
      " [-0.25358736 -0.66783025]\n",
      " [-1.20871865 -1.40195167]\n",
      " [-1.30423178 -1.37258681]\n",
      " [-0.63563988 -1.04957339]\n",
      " [-1.11320552 -1.5781408 ]\n",
      " [-0.63563988  0.03692631]\n",
      " [-0.54012675  1.38770971]\n",
      " [-0.44461362 -0.78528968]\n",
      " [-0.44461362 -0.28608712]\n",
      " [-0.63563988 -0.10989798]\n",
      " [-1.6862843   0.35993973]\n",
      " [-0.44461362 -0.84401939]\n",
      " [-0.25358736  0.06629116]\n",
      " [-0.92217926 -1.1083031 ]\n",
      " [-1.30423178  0.41866944]\n",
      " [-1.78179743 -1.28449224]\n",
      " [-0.82666613 -0.78528968]\n",
      " [-1.78179743  0.00756145]\n",
      " [-0.92217926  0.56549373]\n",
      " [-0.34910049 -0.78528968]\n",
      " [-0.73115301  0.27184516]\n",
      " [-1.6862843  -0.99084367]\n",
      " [-1.11320552  0.30121002]\n",
      " [-0.25358736 -1.40195167]\n",
      " [-0.25358736 -0.9027491 ]\n",
      " [ 1.08359645  0.12502088]\n",
      " [ 0.12846516  1.88691227]\n",
      " [ 0.31949142  0.03692631]\n",
      " [ 1.94321462  0.917872  ]\n",
      " [ 0.89257019 -0.66783025]\n",
      " [ 1.65667523  1.76945285]\n",
      " [ 1.37013584  1.29961514]\n",
      " [ 0.22397829  2.12183112]\n",
      " [ 0.79705706 -1.40195167]\n",
      " [ 0.98808332  0.77104772]\n",
      " [ 1.37013584  2.35674998]\n",
      " [ 2.03872775 -0.81465453]\n",
      " [-0.25358736 -0.34481683]\n",
      " [ 0.89257019 -0.78528968]\n",
      " [ 2.13424088  1.123426  ]\n",
      " [ 1.08359645 -0.13926283]\n",
      " [ 0.22397829  0.2424803 ]\n",
      " [ 0.79705706  0.77104772]\n",
      " [ 2.03872775  2.15119598]\n",
      " [ 0.31949142  0.30121002]\n",
      " [-0.25358736  0.62422344]\n",
      " [-0.0625611   2.18056084]\n",
      " [ 2.13424088  0.94723686]\n",
      " [-0.25358736 -0.28608712]\n",
      " [-0.0625611  -0.49164111]\n",
      " [-0.15807423  1.65199342]\n",
      " [ 1.75218836  1.85754742]\n",
      " [ 0.22397829  0.06629116]\n",
      " [ 0.41500455  0.30121002]\n",
      " [-0.25358736  2.26865541]\n",
      " [ 0.12846516 -0.81465453]\n",
      " [ 0.22397829  1.09406114]\n",
      " [ 1.08359645  0.47739916]\n",
      " [ 0.03295203  1.24088543]\n",
      " [ 0.79705706  0.27184516]\n",
      " [ 0.22397829 -0.37418169]\n",
      " [-0.0625611   0.30121002]\n",
      " [ 0.79705706  0.35993973]\n",
      " [ 1.46564897  2.15119598]\n",
      " [ 0.41500455  2.32738512]\n",
      " [ 0.03295203 -0.31545197]\n",
      " [ 1.17910958  0.53612887]\n",
      " [ 1.75218836  1.00596657]\n",
      " [ 0.31949142  0.06629116]\n",
      " [ 1.27462271  2.23929055]\n",
      " [-0.25358736 -0.57973568]\n",
      " [ 1.84770149  1.53453399]\n",
      " [ 0.31949142 -0.52100597]\n",
      " [-0.25358736  0.80041258]\n",
      " [ 0.60603081 -0.9027491 ]\n",
      " [-0.0625611  -0.52100597]\n",
      " [ 0.98808332  1.88691227]\n",
      " [-0.0625611   2.23929055]\n",
      " [ 1.17910958 -0.75592482]\n",
      " [ 1.37013584  0.59485858]\n",
      " [ 0.31949142  0.06629116]\n",
      " [ 0.22397829 -0.37418169]\n",
      " [ 1.94321462  0.74168287]\n",
      " [ 0.70154394  1.7988177 ]\n",
      " [-0.25358736  0.21311545]\n",
      " [-0.15807423  2.18056084]\n",
      " [ 1.65667523  1.62262856]\n",
      " [-0.25358736  0.06629116]\n",
      " [ 0.98808332  0.59485858]\n",
      " [ 0.41500455  1.123426  ]\n",
      " [ 0.22397829  0.15438573]\n",
      " [-0.0625611   0.12502088]\n",
      " [ 0.89257019  2.18056084]\n",
      " [ 0.22397829 -0.25672226]\n",
      " [ 0.51051768  1.85754742]\n",
      " [ 2.03872775  0.18375059]\n",
      " [ 2.13424088 -0.81465453]\n",
      " [ 0.12846516  1.06469629]\n",
      " [ 1.84770149 -1.28449224]\n",
      " [ 1.84770149  0.12502088]\n",
      " [ 0.03295203  0.03692631]\n",
      " [ 1.08359645  0.53612887]\n",
      " [ 1.37013584 -0.93211396]\n",
      " [ 1.17910958 -0.99084367]\n",
      " [ 2.03872775  0.53612887]\n",
      " [-0.25358736 -0.25672226]\n",
      " [-0.0625611   0.00756145]\n",
      " [ 1.37013584 -1.43131652]\n",
      " [ 0.98808332  2.09246627]\n",
      " [-0.0625611   0.68295315]\n",
      " [-0.0625611  -0.2273574 ]\n",
      " [ 0.98808332  2.0043717 ]\n",
      " [ 0.31949142  0.27184516]\n",
      " [-0.0625611   0.2424803 ]\n",
      " [ 0.12846516  1.88691227]\n",
      " [ 1.08359645  0.56549373]\n",
      " [ 1.65667523 -0.9027491 ]\n",
      " [-0.0625611   0.21311545]\n",
      " [-0.25358736 -0.37418169]\n",
      " [-0.15807423 -0.19799255]\n",
      " [ 0.41500455  0.09565602]\n",
      " [ 0.51051768  1.24088543]\n",
      " [ 0.70154394  0.27184516]\n",
      " [ 0.79705706  1.38770971]\n",
      " [ 1.94321462 -0.93211396]\n",
      " [ 0.98808332  0.12502088]\n",
      " [-0.0625611   1.97500684]\n",
      " [-0.0625611   0.27184516]\n",
      " [ 0.22397829 -0.28608712]\n",
      " [ 0.41500455 -0.46227625]\n",
      " [ 1.27462271  1.88691227]\n",
      " [ 0.89257019  1.27025028]\n",
      " [-0.15807423  1.62262856]\n",
      " [ 0.03295203 -0.57973568]\n",
      " [ 0.41500455  0.00756145]\n",
      " [ 0.12846516  0.77104772]\n",
      " [ 0.03295203 -0.57973568]\n",
      " [ 1.08359645  2.09246627]\n",
      " [ 0.12846516  0.27184516]\n",
      " [ 0.12846516  0.15438573]\n",
      " [ 1.5611621   1.00596657]\n",
      " [-0.25358736 -0.4329114 ]\n",
      " [ 0.70154394 -1.1083031 ]\n",
      " [-0.15807423 -0.28608712]\n",
      " [ 1.37013584  2.0043717 ]\n",
      " [ 1.46564897  0.35993973]\n",
      " [ 0.31949142 -0.52100597]\n",
      " [ 0.98808332 -1.16703281]\n",
      " [ 0.98808332  1.7988177 ]\n",
      " [ 0.31949142 -0.28608712]\n",
      " [ 0.31949142  0.06629116]\n",
      " [ 0.41500455  0.15438573]\n",
      " [-0.15807423  1.41707457]\n",
      " [ 0.89257019  1.09406114]\n",
      " [ 0.03295203 -0.55037082]\n",
      " [ 0.98808332  1.44643942]\n",
      " [ 0.41500455 -0.13926283]\n",
      " [ 0.22397829 -0.13926283]\n",
      " [ 1.84770149 -0.28608712]\n",
      " [-0.15807423 -0.46227625]\n",
      " [ 1.94321462  2.18056084]\n",
      " [-0.25358736  0.27184516]\n",
      " [ 0.03295203 -0.4329114 ]\n",
      " [ 0.12846516  1.53453399]\n",
      " [ 1.46564897  1.00596657]\n",
      " [-0.25358736  0.15438573]\n",
      " [ 0.03295203 -0.13926283]\n",
      " [ 0.89257019 -0.55037082]\n",
      " [ 0.89257019  1.03533143]\n",
      " [ 0.31949142 -0.19799255]\n",
      " [ 1.46564897  0.06629116]\n",
      " [ 1.5611621   1.123426  ]\n",
      " [ 0.12846516  0.21311545]\n",
      " [ 0.03295203 -0.25672226]\n",
      " [ 0.03295203  1.27025028]\n",
      " [-0.0625611   0.15438573]\n",
      " [ 0.41500455  0.59485858]\n",
      " [-0.0625611  -0.37418169]\n",
      " [-0.15807423  0.85914229]\n",
      " [ 2.13424088 -1.04957339]\n",
      " [ 1.5611621   0.00756145]\n",
      " [ 0.31949142  0.06629116]\n",
      " [ 0.22397829  0.03692631]\n",
      " [ 0.41500455 -0.46227625]\n",
      " [ 0.51051768  1.74008799]\n",
      " [ 1.46564897 -1.04957339]\n",
      " [ 0.89257019 -0.57973568]\n",
      " [ 0.41500455  0.27184516]\n",
      " [ 0.41500455  1.00596657]\n",
      " [ 2.03872775 -1.19639767]\n",
      " [ 1.94321462 -0.66783025]\n",
      " [ 0.79705706  0.53612887]\n",
      " [ 0.03295203  0.03692631]\n",
      " [ 1.5611621  -1.28449224]\n",
      " [ 2.13424088 -0.69719511]\n",
      " [ 2.13424088  0.38930459]\n",
      " [ 0.12846516  0.09565602]\n",
      " [ 2.03872775  1.76945285]\n",
      " [-0.0625611   0.30121002]\n",
      " [ 0.79705706 -1.1083031 ]\n",
      " [ 0.79705706  0.12502088]\n",
      " [ 0.41500455 -0.49164111]\n",
      " [ 0.31949142  0.50676401]\n",
      " [ 1.94321462 -1.37258681]\n",
      " [ 0.41500455 -0.16862769]\n",
      " [ 0.98808332 -1.07893824]\n",
      " [ 0.60603081  2.03373655]\n",
      " [ 1.08359645 -1.22576253]\n",
      " [ 1.84770149 -1.07893824]\n",
      " [ 1.75218836 -0.28608712]\n",
      " [ 1.08359645 -0.9027491 ]\n",
      " [ 0.12846516  0.03692631]\n",
      " [ 0.89257019 -1.04957339]\n",
      " [ 0.98808332 -1.02020853]\n",
      " [ 0.98808332 -1.07893824]\n",
      " [ 0.89257019 -1.37258681]\n",
      " [ 0.70154394 -0.72655996]\n",
      " [ 2.13424088 -0.81465453]\n",
      " [ 0.12846516 -0.31545197]\n",
      " [ 0.79705706 -0.84401939]\n",
      " [ 1.27462271 -1.37258681]\n",
      " [ 1.17910958 -1.46068138]\n",
      " [-0.15807423 -1.07893824]\n",
      " [ 1.08359645 -0.99084367]]\n"
     ]
    }
   ],
   "source": [
    "print(standardized_data)"
   ]
  },
  {
   "cell_type": "code",
   "execution_count": 19,
   "id": "34bbb4a4",
   "metadata": {},
   "outputs": [],
   "source": [
    "X = standardized_data"
   ]
  },
  {
   "cell_type": "markdown",
   "id": "f01f7a69",
   "metadata": {},
   "source": [
    "### Training the Decision Tree Classification model on the Training set"
   ]
  },
  {
   "cell_type": "code",
   "execution_count": 20,
   "id": "f627b7d2",
   "metadata": {},
   "outputs": [],
   "source": [
    "from sklearn.model_selection import train_test_split\n",
    "X_train, X_test, y_train, y_test = train_test_split(X, y, test_size = 0.25, random_state = 0)"
   ]
  },
  {
   "cell_type": "code",
   "execution_count": 21,
   "id": "76452712",
   "metadata": {},
   "outputs": [],
   "source": [
    "from sklearn.tree import DecisionTreeClassifier"
   ]
  },
  {
   "cell_type": "code",
   "execution_count": 22,
   "id": "a95856c8",
   "metadata": {},
   "outputs": [],
   "source": [
    "classifier = DecisionTreeClassifier(criterion='entropy', random_state = 0)"
   ]
  },
  {
   "cell_type": "code",
   "execution_count": 23,
   "id": "b1608408",
   "metadata": {},
   "outputs": [
    {
     "data": {
      "text/html": [
       "<style>#sk-container-id-2 {color: black;background-color: white;}#sk-container-id-2 pre{padding: 0;}#sk-container-id-2 div.sk-toggleable {background-color: white;}#sk-container-id-2 label.sk-toggleable__label {cursor: pointer;display: block;width: 100%;margin-bottom: 0;padding: 0.3em;box-sizing: border-box;text-align: center;}#sk-container-id-2 label.sk-toggleable__label-arrow:before {content: \"▸\";float: left;margin-right: 0.25em;color: #696969;}#sk-container-id-2 label.sk-toggleable__label-arrow:hover:before {color: black;}#sk-container-id-2 div.sk-estimator:hover label.sk-toggleable__label-arrow:before {color: black;}#sk-container-id-2 div.sk-toggleable__content {max-height: 0;max-width: 0;overflow: hidden;text-align: left;background-color: #f0f8ff;}#sk-container-id-2 div.sk-toggleable__content pre {margin: 0.2em;color: black;border-radius: 0.25em;background-color: #f0f8ff;}#sk-container-id-2 input.sk-toggleable__control:checked~div.sk-toggleable__content {max-height: 200px;max-width: 100%;overflow: auto;}#sk-container-id-2 input.sk-toggleable__control:checked~label.sk-toggleable__label-arrow:before {content: \"▾\";}#sk-container-id-2 div.sk-estimator input.sk-toggleable__control:checked~label.sk-toggleable__label {background-color: #d4ebff;}#sk-container-id-2 div.sk-label input.sk-toggleable__control:checked~label.sk-toggleable__label {background-color: #d4ebff;}#sk-container-id-2 input.sk-hidden--visually {border: 0;clip: rect(1px 1px 1px 1px);clip: rect(1px, 1px, 1px, 1px);height: 1px;margin: -1px;overflow: hidden;padding: 0;position: absolute;width: 1px;}#sk-container-id-2 div.sk-estimator {font-family: monospace;background-color: #f0f8ff;border: 1px dotted black;border-radius: 0.25em;box-sizing: border-box;margin-bottom: 0.5em;}#sk-container-id-2 div.sk-estimator:hover {background-color: #d4ebff;}#sk-container-id-2 div.sk-parallel-item::after {content: \"\";width: 100%;border-bottom: 1px solid gray;flex-grow: 1;}#sk-container-id-2 div.sk-label:hover label.sk-toggleable__label {background-color: #d4ebff;}#sk-container-id-2 div.sk-serial::before {content: \"\";position: absolute;border-left: 1px solid gray;box-sizing: border-box;top: 0;bottom: 0;left: 50%;z-index: 0;}#sk-container-id-2 div.sk-serial {display: flex;flex-direction: column;align-items: center;background-color: white;padding-right: 0.2em;padding-left: 0.2em;position: relative;}#sk-container-id-2 div.sk-item {position: relative;z-index: 1;}#sk-container-id-2 div.sk-parallel {display: flex;align-items: stretch;justify-content: center;background-color: white;position: relative;}#sk-container-id-2 div.sk-item::before, #sk-container-id-2 div.sk-parallel-item::before {content: \"\";position: absolute;border-left: 1px solid gray;box-sizing: border-box;top: 0;bottom: 0;left: 50%;z-index: -1;}#sk-container-id-2 div.sk-parallel-item {display: flex;flex-direction: column;z-index: 1;position: relative;background-color: white;}#sk-container-id-2 div.sk-parallel-item:first-child::after {align-self: flex-end;width: 50%;}#sk-container-id-2 div.sk-parallel-item:last-child::after {align-self: flex-start;width: 50%;}#sk-container-id-2 div.sk-parallel-item:only-child::after {width: 0;}#sk-container-id-2 div.sk-dashed-wrapped {border: 1px dashed gray;margin: 0 0.4em 0.5em 0.4em;box-sizing: border-box;padding-bottom: 0.4em;background-color: white;}#sk-container-id-2 div.sk-label label {font-family: monospace;font-weight: bold;display: inline-block;line-height: 1.2em;}#sk-container-id-2 div.sk-label-container {text-align: center;}#sk-container-id-2 div.sk-container {/* jupyter's `normalize.less` sets `[hidden] { display: none; }` but bootstrap.min.css set `[hidden] { display: none !important; }` so we also need the `!important` here to be able to override the default hidden behavior on the sphinx rendered scikit-learn.org. See: https://github.com/scikit-learn/scikit-learn/issues/21755 */display: inline-block !important;position: relative;}#sk-container-id-2 div.sk-text-repr-fallback {display: none;}</style><div id=\"sk-container-id-2\" class=\"sk-top-container\"><div class=\"sk-text-repr-fallback\"><pre>DecisionTreeClassifier(criterion=&#x27;entropy&#x27;, random_state=0)</pre><b>In a Jupyter environment, please rerun this cell to show the HTML representation or trust the notebook. <br />On GitHub, the HTML representation is unable to render, please try loading this page with nbviewer.org.</b></div><div class=\"sk-container\" hidden><div class=\"sk-item\"><div class=\"sk-estimator sk-toggleable\"><input class=\"sk-toggleable__control sk-hidden--visually\" id=\"sk-estimator-id-2\" type=\"checkbox\" checked><label for=\"sk-estimator-id-2\" class=\"sk-toggleable__label sk-toggleable__label-arrow\">DecisionTreeClassifier</label><div class=\"sk-toggleable__content\"><pre>DecisionTreeClassifier(criterion=&#x27;entropy&#x27;, random_state=0)</pre></div></div></div></div></div>"
      ],
      "text/plain": [
       "DecisionTreeClassifier(criterion='entropy', random_state=0)"
      ]
     },
     "execution_count": 23,
     "metadata": {},
     "output_type": "execute_result"
    }
   ],
   "source": [
    "classifier.fit(X_train, y_train)"
   ]
  },
  {
   "cell_type": "markdown",
   "id": "6f315b97",
   "metadata": {},
   "source": [
    "### Predicting a new result¶"
   ]
  },
  {
   "cell_type": "code",
   "execution_count": 24,
   "id": "62c6c5c0",
   "metadata": {},
   "outputs": [
    {
     "name": "stdout",
     "output_type": "stream",
     "text": [
      "[0]\n"
     ]
    }
   ],
   "source": [
    "print(classifier.predict(scaler.transform([[30,87000]])))"
   ]
  },
  {
   "cell_type": "code",
   "execution_count": 30,
   "id": "864c74e7",
   "metadata": {},
   "outputs": [],
   "source": [
    "y_pred = classifier.predict(X_test)"
   ]
  },
  {
   "cell_type": "markdown",
   "id": "661b1f7c",
   "metadata": {},
   "source": [
    "### Model Evaluation"
   ]
  },
  {
   "cell_type": "code",
   "execution_count": 26,
   "id": "7b898f85",
   "metadata": {},
   "outputs": [],
   "source": [
    "from sklearn.metrics import confusion_matrix, accuracy_score"
   ]
  },
  {
   "cell_type": "code",
   "execution_count": 27,
   "id": "3a80eeb9",
   "metadata": {},
   "outputs": [],
   "source": [
    "cm = confusion_matrix(y_test, y_pred)"
   ]
  },
  {
   "cell_type": "code",
   "execution_count": 28,
   "id": "f16de7ee",
   "metadata": {},
   "outputs": [
    {
     "name": "stdout",
     "output_type": "stream",
     "text": [
      "[[62  6]\n",
      " [ 3 29]]\n"
     ]
    }
   ],
   "source": [
    "print(cm)"
   ]
  },
  {
   "cell_type": "code",
   "execution_count": 29,
   "id": "11269944",
   "metadata": {},
   "outputs": [
    {
     "data": {
      "text/plain": [
       "0.91"
      ]
     },
     "execution_count": 29,
     "metadata": {},
     "output_type": "execute_result"
    }
   ],
   "source": [
    "accuracy_score(y_test, y_pred)"
   ]
  },
  {
   "cell_type": "code",
   "execution_count": null,
   "id": "ecedc97a",
   "metadata": {},
   "outputs": [],
   "source": []
  }
 ],
 "metadata": {
  "kernelspec": {
   "display_name": "Python 3 (ipykernel)",
   "language": "python",
   "name": "python3"
  },
  "language_info": {
   "codemirror_mode": {
    "name": "ipython",
    "version": 3
   },
   "file_extension": ".py",
   "mimetype": "text/x-python",
   "name": "python",
   "nbconvert_exporter": "python",
   "pygments_lexer": "ipython3",
   "version": "3.10.9"
  }
 },
 "nbformat": 4,
 "nbformat_minor": 5
}
