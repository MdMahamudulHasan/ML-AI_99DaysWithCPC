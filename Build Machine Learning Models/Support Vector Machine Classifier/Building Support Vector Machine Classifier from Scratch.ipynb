{
 "cells": [
  {
   "cell_type": "markdown",
   "id": "9293df86",
   "metadata": {},
   "source": [
    "### SVM Classifier"
   ]
  },
  {
   "cell_type": "markdown",
   "id": "099373d9",
   "metadata": {},
   "source": [
    "Equation of the Hyperplane:\n",
    "#### y = wx - b"
   ]
  },
  {
   "cell_type": "markdown",
   "id": "90b16f96",
   "metadata": {},
   "source": [
    "### Gradient Descent:"
   ]
  },
  {
   "cell_type": "markdown",
   "id": "0990d26f",
   "metadata": {},
   "source": [
    "Gradient Descent is an optimization algorithm used for minimizing the loss function in various machine learning algorithms. It is used for updating the parameters of the learning model.\n",
    "\n",
    "w = w - a * dw\n",
    "\n",
    "b = b - a * db"
   ]
  },
  {
   "cell_type": "markdown",
   "id": "d4f20597",
   "metadata": {},
   "source": [
    "### Learning Rate:"
   ]
  },
  {
   "cell_type": "markdown",
   "id": "525379fa",
   "metadata": {},
   "source": [
    "Learning rate is a tuning in an optimization that determines the step size at each iteration while moving toward a minimum of a loss function."
   ]
  },
  {
   "cell_type": "markdown",
   "id": "04e6620d",
   "metadata": {},
   "source": [
    "### Importing the Dependencies"
   ]
  },
  {
   "cell_type": "code",
   "execution_count": 1,
   "id": "3b0a8dc2",
   "metadata": {},
   "outputs": [],
   "source": [
    "# importing the numpy library\n",
    "import numpy as np"
   ]
  },
  {
   "cell_type": "markdown",
   "id": "59cd072c",
   "metadata": {},
   "source": [
    "### Support Vector Machine Classifier"
   ]
  },
  {
   "cell_type": "code",
   "execution_count": 2,
   "id": "0207db2e",
   "metadata": {},
   "outputs": [],
   "source": [
    "class SVM_classifier():\n",
    "    \n",
    "    # Initiating the hyperparameters\n",
    "    def __init__(self, learning_rate, no_of_iterations, lambda_parameters):\n",
    "        self.learning_rate = learning_rate\n",
    "        self.no_of_iterations = no_of_iterations\n",
    "        self.lambda_parameters = lambda_parameters\n",
    "        \n",
    "    # fitiing the dataset to SVM Classifier\n",
    "    def fit(self, X, Y):\n",
    "        \n",
    "        # m --> number of data points --> number of rows\n",
    "        # n --> number of input features --> number of columns\n",
    "        self.m, self.n = X.shape\n",
    "        \n",
    "        # Initiating the weight value and bias value\n",
    "        self.w = np.zeros(self.n)\n",
    "        self.b = 0\n",
    "        self.X = X\n",
    "        self.Y = Y\n",
    "        \n",
    "        # Implementing Gradient Descent algorithm for Optimization\n",
    "        for i in range(self.no_of_iterations):\n",
    "            self.update_weights()\n",
    "        \n",
    "        \n",
    "        # function for updating the weight and bias value\n",
    "        def update_weights(self):\n",
    "            \n",
    "            # label encoding\n",
    "            y_label = np.where(self.Y <= 0, -1, 1)\n",
    "            \n",
    "            # gradients (dw , db)\n",
    "            for index, X_i in enumerate (self.X):\n",
    "                condition = y_label[index] * (np.dot(X_i, self.w) - self.b) >= 1\n",
    "                \n",
    "                if (condition == True):\n",
    "                    dw = 2 * self.lambda_parameters * self.w\n",
    "                    db = 0\n",
    "                \n",
    "                else:\n",
    "                    dw = 2 * self.lambda_parameters * self.w - np.dot(X_i, y_label[index])\n",
    "                    db = y_label[index]\n",
    "                \n",
    "                \n",
    "                self.w = self.w - self.learning_rate * dw\n",
    "                self.b = self.b - self.learning_rate * db\n",
    "                \n",
    "        \n",
    "        # predict the label for a given input value\n",
    "        def predict (self, X):\n",
    "            output = np.dot(X, self.w) - self.b\n",
    "            predicted_labels = np.sign(output)\n",
    "            \n",
    "            y_hat = np.where(predicted_labels <= -1, 0, 1)\n",
    "            \n",
    "            return y_hat"
   ]
  },
  {
   "cell_type": "code",
   "execution_count": null,
   "id": "a6430b33",
   "metadata": {},
   "outputs": [],
   "source": []
  }
 ],
 "metadata": {
  "kernelspec": {
   "display_name": "Python 3 (ipykernel)",
   "language": "python",
   "name": "python3"
  },
  "language_info": {
   "codemirror_mode": {
    "name": "ipython",
    "version": 3
   },
   "file_extension": ".py",
   "mimetype": "text/x-python",
   "name": "python",
   "nbconvert_exporter": "python",
   "pygments_lexer": "ipython3",
   "version": "3.10.9"
  }
 },
 "nbformat": 4,
 "nbformat_minor": 5
}
