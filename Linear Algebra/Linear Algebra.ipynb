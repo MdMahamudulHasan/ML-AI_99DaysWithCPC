{
 "cells": [
  {
   "cell_type": "markdown",
   "id": "08667eea",
   "metadata": {},
   "source": [
    "## Vectors\n",
    "#### A vector is a one-dimensional array of numbers. We can perform a variety of operations on vectors, such as addition, subtraction, scalar multiplication, and dot product."
   ]
  },
  {
   "cell_type": "markdown",
   "id": "46d28508",
   "metadata": {},
   "source": [
    "### Creating a Vector"
   ]
  },
  {
   "cell_type": "code",
   "execution_count": 1,
   "id": "422fc66c",
   "metadata": {},
   "outputs": [
    {
     "name": "stdout",
     "output_type": "stream",
     "text": [
      "Vector 1:  [1 2 3]\n",
      "Vector 2:  [4 5 6]\n"
     ]
    }
   ],
   "source": [
    "import numpy as np\n",
    "\n",
    "vector1 = np.array([1, 2, 3])\n",
    "vector2 = np.array([4, 5, 6])\n",
    "\n",
    "print(\"Vector 1: \", vector1)\n",
    "print(\"Vector 2: \", vector2)"
   ]
  },
  {
   "cell_type": "markdown",
   "id": "8def0018",
   "metadata": {},
   "source": [
    "### Vector Operations"
   ]
  },
  {
   "cell_type": "markdown",
   "id": "59f4f888",
   "metadata": {},
   "source": [
    "#### Vector Addition\n",
    "Vector addition is performed by adding corresponding elements of each vector. This requires both vectors to be the same length."
   ]
  },
  {
   "cell_type": "code",
   "execution_count": 2,
   "id": "107998f9",
   "metadata": {},
   "outputs": [
    {
     "name": "stdout",
     "output_type": "stream",
     "text": [
      "Vector 1:  [1 2 3]\n",
      "Vector 2:  [4 5 6]\n",
      "Addition:  [5 7 9]\n"
     ]
    }
   ],
   "source": [
    "import numpy as np\n",
    "\n",
    "vector1 = np.array([1, 2, 3])\n",
    "vector2 = np.array([4, 5, 6])\n",
    "\n",
    "addition = vector1 + vector2\n",
    "\n",
    "print(\"Vector 1: \", vector1)\n",
    "print(\"Vector 2: \", vector2)\n",
    "print(\"Addition: \", addition)"
   ]
  },
  {
   "cell_type": "markdown",
   "id": "212e0779",
   "metadata": {},
   "source": [
    " Explanation: \n",
    "     For vectors [1, 2, 3] and [4, 5, 6], \n",
    "     the addition is:\n",
    "        [1+4, 2+5, 3+6] -> [5, 7, 9]"
   ]
  },
  {
   "cell_type": "markdown",
   "id": "fc65a31e",
   "metadata": {},
   "source": [
    "#### Vector Subtraction\n",
    "Similar to addition, vector subtraction is element-wise."
   ]
  },
  {
   "cell_type": "code",
   "execution_count": 3,
   "id": "d95627bb",
   "metadata": {},
   "outputs": [
    {
     "name": "stdout",
     "output_type": "stream",
     "text": [
      "Vector 1:  [1 2 3]\n",
      "Vector 2:  [4 5 6]\n",
      "Subtraction: [-3 -3 -3]\n"
     ]
    }
   ],
   "source": [
    "import numpy as np\n",
    "\n",
    "vector1 = np.array([1, 2, 3])\n",
    "vector2 = np.array([4, 5, 6])\n",
    "\n",
    "subtraction = vector1 - vector2\n",
    "\n",
    "print(\"Vector 1: \", vector1)\n",
    "print(\"Vector 2: \", vector2)\n",
    "print(\"Subtraction:\", subtraction)"
   ]
  },
  {
   "cell_type": "markdown",
   "id": "67f55438",
   "metadata": {},
   "source": [
    " Explanation: For vectors [1, 2, 3] and [4, 5, 6], the subtraction is:[1-4, 2-5, 3-6] -> [-3, -3, -3]"
   ]
  },
  {
   "cell_type": "markdown",
   "id": "7e4de2f0",
   "metadata": {},
   "source": [
    "#### Scalar Multiplication\n",
    "\n",
    "In scalar multiplication, each element of the vector is multiplied by a constant (scalar)."
   ]
  },
  {
   "cell_type": "code",
   "execution_count": 5,
   "id": "28eceb29",
   "metadata": {},
   "outputs": [
    {
     "name": "stdout",
     "output_type": "stream",
     "text": [
      "Vector 1:  [1 2 3]\n",
      "Vector 2:  [4 5 6]\n",
      "Scalar Multiplication: [3 6 9]\n"
     ]
    }
   ],
   "source": [
    "import numpy as np\n",
    "\n",
    "vector1 = np.array([1, 2, 3])\n",
    "vector2 = np.array([4, 5, 6])\n",
    "\n",
    "scalar_multiplication = 3 * vector1\n",
    "\n",
    "print(\"Vector 1: \", vector1)\n",
    "print(\"Vector 2: \", vector2)\n",
    "print(\"Scalar Multiplication:\", scalar_multiplication)"
   ]
  },
  {
   "cell_type": "markdown",
   "id": "81bc35f0",
   "metadata": {},
   "source": [
    " Explanation: If we multiply [1, 2, 3] by 3, the result is:[3 * 1, 3 * 2, 3 * 3] -> [3, 6, 9]"
   ]
  },
  {
   "cell_type": "markdown",
   "id": "19c65784",
   "metadata": {},
   "source": [
    "#### Dot Product\n",
    "The dot product is the sum of the products of corresponding elements of two vectors. It’s only possible when both vectors are of the same length."
   ]
  },
  {
   "cell_type": "code",
   "execution_count": 6,
   "id": "5280591f",
   "metadata": {},
   "outputs": [
    {
     "name": "stdout",
     "output_type": "stream",
     "text": [
      "Vector 1:  [1 2 3]\n",
      "Vector 2:  [4 5 6]\n",
      "Dot Product: 32\n"
     ]
    }
   ],
   "source": [
    "import numpy as np\n",
    "\n",
    "vector1 = np.array([1, 2, 3])\n",
    "vector2 = np.array([4, 5, 6])\n",
    "\n",
    "dot_product = np.dot(vector1, vector2)\n",
    "\n",
    "print(\"Vector 1: \", vector1)\n",
    "print(\"Vector 2: \", vector2)\n",
    "print(\"Dot Product:\", dot_product)"
   ]
  },
  {
   "cell_type": "markdown",
   "id": "ff012f84",
   "metadata": {},
   "source": [
    " Explanation: For vectors [1, 2, 3] and [4, 5, 6], the dot product is:(1 * 4) + (2 * 5) + (3 * 6) -> 4 + 10 + 18 = 32"
   ]
  },
  {
   "cell_type": "markdown",
   "id": "b6b92f51",
   "metadata": {},
   "source": [
    "## Matrices\n",
    "#### A matrix is a two-dimensional array with rows and columns. Matrix operations include addition, subtraction, scalar multiplication, matrix multiplication, and transpose."
   ]
  },
  {
   "cell_type": "code",
   "execution_count": 10,
   "id": "68882b13",
   "metadata": {},
   "outputs": [
    {
     "name": "stdout",
     "output_type": "stream",
     "text": [
      "Matrix 1:\n",
      " [[1 2]\n",
      " [3 4]]\n",
      "\n",
      "\n",
      "Matrix 2: \n",
      " [[5 6]\n",
      " [7 8]]\n"
     ]
    }
   ],
   "source": [
    "import numpy as np\n",
    "\n",
    "matrix1 = np.array([[1, 2], [3, 4]])\n",
    "matrix2 = np.array([[5, 6], [7, 8]])\n",
    "\n",
    "print(\"Matrix 1:\\n\", matrix1)\n",
    "print(\"\\n\")\n",
    "print(\"Matrix 2: \\n\", matrix2)"
   ]
  },
  {
   "cell_type": "markdown",
   "id": "062cd82a",
   "metadata": {},
   "source": [
    "### Matrix Operations"
   ]
  },
  {
   "cell_type": "markdown",
   "id": "144359e6",
   "metadata": {},
   "source": [
    "#### Matrix Addition\n",
    "To add matrices, they must be of the same dimensions, and we add corresponding elements."
   ]
  },
  {
   "cell_type": "code",
   "execution_count": 11,
   "id": "cb0b1f70",
   "metadata": {},
   "outputs": [
    {
     "name": "stdout",
     "output_type": "stream",
     "text": [
      "Matrix 1:\n",
      " [[1 2]\n",
      " [3 4]]\n",
      "\n",
      "\n",
      "Matrix 2: \n",
      " [[5 6]\n",
      " [7 8]]\n",
      "\n",
      "\n",
      "Matrix Addition:\n",
      " [[ 6  8]\n",
      " [10 12]]\n"
     ]
    }
   ],
   "source": [
    "import numpy as np\n",
    "\n",
    "matrix1 = np.array([[1, 2], [3, 4]])\n",
    "matrix2 = np.array([[5, 6], [7, 8]])\n",
    "\n",
    "matrix_addition = matrix1 + matrix2\n",
    "\n",
    "print(\"Matrix 1:\\n\", matrix1)\n",
    "print(\"\\n\")\n",
    "print(\"Matrix 2: \\n\", matrix2)\n",
    "print(\"\\n\")\n",
    "print(\"Matrix Addition:\\n\", matrix_addition)"
   ]
  },
  {
   "cell_type": "markdown",
   "id": "a5eedd85",
   "metadata": {},
   "source": [
    " Explanation: For matrices [[1, 2], [3, 4]] and [[5, 6], [7, 8]], the addition is:[1+5    2+6]\n",
    "[3+7    4+8] -> [[6, 8],   [10, 12]]"
   ]
  },
  {
   "cell_type": "markdown",
   "id": "cc5a9d00",
   "metadata": {},
   "source": [
    "#### Matrix Subtraction\n",
    "Similar to addition, matrix subtraction is element-wise."
   ]
  },
  {
   "cell_type": "code",
   "execution_count": 12,
   "id": "bb5ba22a",
   "metadata": {},
   "outputs": [
    {
     "name": "stdout",
     "output_type": "stream",
     "text": [
      "Matrix 1:\n",
      " [[1 2]\n",
      " [3 4]]\n",
      "\n",
      "\n",
      "Matrix 2: \n",
      " [[5 6]\n",
      " [7 8]]\n",
      "\n",
      "\n",
      "Matrix Subtraction:\n",
      " [[-4 -4]\n",
      " [-4 -4]]\n"
     ]
    }
   ],
   "source": [
    "import numpy as np\n",
    "\n",
    "matrix1 = np.array([[1, 2], [3, 4]])\n",
    "matrix2 = np.array([[5, 6], [7, 8]])\n",
    "\n",
    "matrix_subtraction = matrix1 - matrix2\n",
    "\n",
    "print(\"Matrix 1:\\n\", matrix1)\n",
    "print(\"\\n\")\n",
    "print(\"Matrix 2: \\n\", matrix2)\n",
    "print(\"\\n\")\n",
    "print(\"Matrix Subtraction:\\n\", matrix_subtraction)"
   ]
  },
  {
   "cell_type": "markdown",
   "id": "589361a6",
   "metadata": {},
   "source": [
    " Explanation: For matrices [[1, 2], [3, 4]] and [[5, 6], [7, 8]], the subtraction is:[1-5  2-6]\n",
    "[3-7  4-8] -> [[-4, -4], [-4, -4]]"
   ]
  },
  {
   "cell_type": "markdown",
   "id": "bc3854bb",
   "metadata": {},
   "source": [
    "#### Scalar Multiplication\n",
    "Each element in the matrix is multiplied by the scalar."
   ]
  },
  {
   "cell_type": "code",
   "execution_count": 14,
   "id": "b2060760",
   "metadata": {},
   "outputs": [
    {
     "name": "stdout",
     "output_type": "stream",
     "text": [
      "Matrix 1:\n",
      " [[1 2]\n",
      " [3 4]]\n",
      "\n",
      "\n",
      "Matrix 2: \n",
      " [[5 6]\n",
      " [7 8]]\n",
      "\n",
      "\n",
      "Scalar Multiplication:\n",
      " [[2 4]\n",
      " [6 8]]\n"
     ]
    }
   ],
   "source": [
    "import numpy as np\n",
    "\n",
    "matrix1 = np.array([[1, 2], [3, 4]])\n",
    "matrix2 = np.array([[5, 6], [7, 8]])\n",
    "\n",
    "scalar_multiplication = 2 * matrix1\n",
    "\n",
    "print(\"Matrix 1:\\n\", matrix1)\n",
    "print(\"\\n\")\n",
    "print(\"Matrix 2: \\n\", matrix2)\n",
    "print(\"\\n\")\n",
    "print(\"Scalar Multiplication:\\n\", scalar_multiplication)"
   ]
  },
  {
   "cell_type": "markdown",
   "id": "d7df180f",
   "metadata": {},
   "source": [
    "Explanation: If we multiply [[1, 2], [3, 4]] by 2, the result is:[2 * 1    2 * 2]\n",
    "[2 * 3    2 * 4] -> [[2, 4], [6, 8]]"
   ]
  },
  {
   "cell_type": "markdown",
   "id": "5bc648fd",
   "metadata": {},
   "source": [
    "#### Matrix Multiplication (Dot Product)\n",
    "\n",
    "Matrix multiplication is different from element-wise multiplication. For two matrices A (of dimensions m x n) and B (of dimensions n x p), the resulting matrix will have dimensions m x p."
   ]
  },
  {
   "cell_type": "code",
   "execution_count": 15,
   "id": "dde9d15e",
   "metadata": {},
   "outputs": [
    {
     "name": "stdout",
     "output_type": "stream",
     "text": [
      "Matrix 1:\n",
      " [[1 2]\n",
      " [3 4]]\n",
      "\n",
      "\n",
      "Matrix 2: \n",
      " [[5 6]\n",
      " [7 8]]\n",
      "\n",
      "\n",
      "Matrix Multiplication:\n",
      " [[19 22]\n",
      " [43 50]]\n"
     ]
    }
   ],
   "source": [
    "import numpy as np\n",
    "\n",
    "matrix1 = np.array([[1, 2], [3, 4]])\n",
    "matrix2 = np.array([[5, 6], [7, 8]])\n",
    "\n",
    "matrix_multiplication = np.dot(matrix1, matrix2)\n",
    "\n",
    "print(\"Matrix 1:\\n\", matrix1)\n",
    "print(\"\\n\")\n",
    "print(\"Matrix 2: \\n\", matrix2)\n",
    "print(\"\\n\")\n",
    "print(\"Matrix Multiplication:\\n\", matrix_multiplication)"
   ]
  },
  {
   "cell_type": "markdown",
   "id": "7b75e27d",
   "metadata": {},
   "source": [
    " Explanation: For matrix1 = [[1, 2], [3, 4]] and matrix2 = [[5, 6], [7, 8]], the product is:\n",
    "        \n",
    "        Row 1 * Column 1: (1*5 + 2*7) -> 19\n",
    "        Row 1 * Column 2: (1*6 + 2*8) -> 22\n",
    "        Row 2 * Column 1: (3*5 + 4*7) -> 43\n",
    "        Row 2 * Column 2: (3*6 + 4*8) -> 50\n",
    "\n",
    "Result:\n",
    "[[19, 22],\n",
    " [43, 50]]"
   ]
  },
  {
   "cell_type": "markdown",
   "id": "99bf2aad",
   "metadata": {},
   "source": [
    "#### Transpose of a Matrix\n",
    "The transpose of a matrix flips its rows and columns."
   ]
  },
  {
   "cell_type": "code",
   "execution_count": 16,
   "id": "161770d6",
   "metadata": {},
   "outputs": [
    {
     "name": "stdout",
     "output_type": "stream",
     "text": [
      "Matrix 1:\n",
      " [[1 2]\n",
      " [3 4]]\n",
      "\n",
      "\n",
      "Matrix 2: \n",
      " [[5 6]\n",
      " [7 8]]\n",
      "\n",
      "\n",
      "Transpose of Matrix 1:\n",
      " [[1 3]\n",
      " [2 4]]\n"
     ]
    }
   ],
   "source": [
    "import numpy as np\n",
    "\n",
    "matrix1 = np.array([[1, 2], [3, 4]])\n",
    "matrix2 = np.array([[5, 6], [7, 8]])\n",
    "\n",
    "transpose = matrix1.T\n",
    "\n",
    "print(\"Matrix 1:\\n\", matrix1)\n",
    "print(\"\\n\")\n",
    "print(\"Matrix 2: \\n\", matrix2)\n",
    "print(\"\\n\")\n",
    "print(\"Transpose of Matrix 1:\\n\", transpose)"
   ]
  },
  {
   "cell_type": "code",
   "execution_count": null,
   "id": "f660cd1d",
   "metadata": {},
   "outputs": [],
   "source": []
  }
 ],
 "metadata": {
  "kernelspec": {
   "display_name": "Python 3 (ipykernel)",
   "language": "python",
   "name": "python3"
  },
  "language_info": {
   "codemirror_mode": {
    "name": "ipython",
    "version": 3
   },
   "file_extension": ".py",
   "mimetype": "text/x-python",
   "name": "python",
   "nbconvert_exporter": "python",
   "pygments_lexer": "ipython3",
   "version": "3.10.9"
  }
 },
 "nbformat": 4,
 "nbformat_minor": 5
}
