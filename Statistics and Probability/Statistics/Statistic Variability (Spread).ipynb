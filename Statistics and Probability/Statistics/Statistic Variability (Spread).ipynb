{
 "cells": [
  {
   "cell_type": "markdown",
   "id": "b223297c",
   "metadata": {},
   "source": [
    "#### Descriptive Statistics is broken down into Tendency and Variability.\n",
    "\n",
    "#### Variability uses these measures:\n",
    "\n",
    "    . Min and Max\n",
    "    . Variance\n",
    "    . Deviation\n",
    "    . Distribution\n",
    "    . Skewness\n",
    "    . Kurtosis"
   ]
  },
  {
   "cell_type": "markdown",
   "id": "3cc1b85f",
   "metadata": {},
   "source": [
    "## The Variance\n",
    "#### In statistics, the Variance is the average of the squared differences from the Mean Value.\n",
    "\n",
    "#### In other words, the variance describes how far a set of numbers is Spread Out from the mean (average) value."
   ]
  },
  {
   "cell_type": "code",
   "execution_count": 1,
   "id": "dee670b4",
   "metadata": {},
   "outputs": [
    {
     "name": "stdout",
     "output_type": "stream",
     "text": [
      "Mean:  10.363636363636363\n",
      "Varience:  7.654545454545454\n"
     ]
    }
   ],
   "source": [
    "import numpy as np\n",
    "\n",
    "numbers = np.array([7,8,8,9,9,9,10,11,14,14,15])\n",
    "\n",
    "mean = np.mean(numbers)\n",
    "\n",
    "varience = np.var(numbers, ddof=1)\n",
    "\n",
    "print(\"Mean: \",mean)\n",
    "print(\"Varience: \",varience)"
   ]
  },
  {
   "cell_type": "markdown",
   "id": "cc8ce68e",
   "metadata": {},
   "source": [
    "### Difference Between Population and Sample Variance\n",
    "#### Population Variance (when ddof=0): \n",
    "    Divides by n (the total number of values), assuming you have the entire dataset.\n",
    "#### Sample Variance (when ddof=1): \n",
    "    Divides by n−1, which is useful when your data is a sample from a larger population. This adjustment (called Bessel's correction) helps to provide an unbiased estimate of the population variance from a sample."
   ]
  },
  {
   "cell_type": "code",
   "execution_count": 3,
   "id": "363037d8",
   "metadata": {},
   "outputs": [
    {
     "name": "stdout",
     "output_type": "stream",
     "text": [
      "Varience:  7.654545454545454\n",
      "Varience with specify ddof:  6.958677685950414\n"
     ]
    }
   ],
   "source": [
    "# if i dont specify ddof\n",
    "\n",
    "import numpy as np\n",
    "\n",
    "numbers = np.array([7,8,8,9,9,9,10,11,14,14,15])\n",
    "\n",
    "varience = np.var(numbers, ddof=1)\n",
    "\n",
    "varience2 = np.var(numbers)\n",
    "\n",
    "print(\"Varience: \",varience)\n",
    "print(\"Varience with specify ddof: \",varience2)"
   ]
  },
  {
   "cell_type": "markdown",
   "id": "8b269516",
   "metadata": {},
   "source": [
    "## Standard Deviation\n",
    "#### Standard Deviation is a measure of how spread out numbers are.\n",
    "\n",
    "#### The symbol is σ (Greek letter sigma).\n",
    "\n",
    "#### The formula is the √ variance (the square root of the variance).\n",
    "\n",
    "#### The standard deviation is a measure of the amount of variation or dispersion in a set of values. It is simply the square root of the variance, making it easier to interpret since it's in the same units as the data"
   ]
  },
  {
   "cell_type": "code",
   "execution_count": 4,
   "id": "a56ee68c",
   "metadata": {},
   "outputs": [
    {
     "name": "stdout",
     "output_type": "stream",
     "text": [
      "Population Standard Deviation: 74.21727616689158\n",
      "Sample Standard Deviation: 80.16382036329166\n"
     ]
    }
   ],
   "source": [
    "import numpy as np\n",
    "\n",
    "# Define a list of values\n",
    "values = [85, 87, 86, 88, 90, 92, 300]\n",
    "\n",
    "# Population standard deviation (ddof=0, default)\n",
    "population_std_dev = np.std(values)\n",
    "print(\"Population Standard Deviation:\", population_std_dev)\n",
    "\n",
    "# Sample standard deviation (ddof=1)\n",
    "sample_std_dev = np.std(values, ddof=1)\n",
    "print(\"Sample Standard Deviation:\", sample_std_dev)"
   ]
  },
  {
   "cell_type": "markdown",
   "id": "3cb16944",
   "metadata": {},
   "source": [
    "#### Deviation is a measure of Distance.\n",
    "\n",
    "#### How far (on average), all values are from the Mean (the Middle)."
   ]
  },
  {
   "cell_type": "markdown",
   "id": "1811bc4f",
   "metadata": {},
   "source": [
    "### When to Use Each\n",
    "#### Use population standard deviation if your data represents the entire population.\n",
    "#### Use sample standard deviation if your data is a sample from a larger population, as it gives an unbiased estimate."
   ]
  }
 ],
 "metadata": {
  "kernelspec": {
   "display_name": "Python 3 (ipykernel)",
   "language": "python",
   "name": "python3"
  },
  "language_info": {
   "codemirror_mode": {
    "name": "ipython",
    "version": 3
   },
   "file_extension": ".py",
   "mimetype": "text/x-python",
   "name": "python",
   "nbconvert_exporter": "python",
   "pygments_lexer": "ipython3",
   "version": "3.10.9"
  }
 },
 "nbformat": 4,
 "nbformat_minor": 5
}
