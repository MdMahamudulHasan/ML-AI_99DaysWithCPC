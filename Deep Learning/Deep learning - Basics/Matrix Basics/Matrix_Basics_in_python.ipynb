{
  "nbformat": 4,
  "nbformat_minor": 0,
  "metadata": {
    "colab": {
      "provenance": []
    },
    "kernelspec": {
      "name": "python3",
      "display_name": "Python 3"
    },
    "language_info": {
      "name": "python"
    }
  },
  "cells": [
    {
      "cell_type": "code",
      "execution_count": 1,
      "metadata": {
        "id": "966LdcFxvS05"
      },
      "outputs": [],
      "source": [
        "import numpy as np"
      ]
    },
    {
      "cell_type": "markdown",
      "source": [
        "**Subtract**"
      ],
      "metadata": {
        "id": "sc2PVlItwQ87"
      }
    },
    {
      "cell_type": "code",
      "source": [
        "revenue = np.array([[180, 200, 220], [24, 36, 40], [12, 18, 20]])"
      ],
      "metadata": {
        "id": "oPrj4f1WvZ0w"
      },
      "execution_count": 2,
      "outputs": []
    },
    {
      "cell_type": "code",
      "source": [
        "expenses = np.array([[80, 90, 100], [10, 16, 20], [8, 10, 10]])"
      ],
      "metadata": {
        "id": "YLGP2evNvx-0"
      },
      "execution_count": 3,
      "outputs": []
    },
    {
      "cell_type": "code",
      "source": [
        "profit = revenue - expenses"
      ],
      "metadata": {
        "id": "dNOP5d0ZwBFT"
      },
      "execution_count": 4,
      "outputs": []
    },
    {
      "cell_type": "code",
      "source": [
        "profit"
      ],
      "metadata": {
        "colab": {
          "base_uri": "https://localhost:8080/"
        },
        "id": "hMQXkHCZwFnj",
        "outputId": "3ad1aacc-2148-4ff6-fa5b-de0546cedd92"
      },
      "execution_count": 5,
      "outputs": [
        {
          "output_type": "execute_result",
          "data": {
            "text/plain": [
              "array([[100, 110, 120],\n",
              "       [ 14,  20,  20],\n",
              "       [  4,   8,  10]])"
            ]
          },
          "metadata": {},
          "execution_count": 5
        }
      ]
    },
    {
      "cell_type": "markdown",
      "source": [
        "**Broadcasting**"
      ],
      "metadata": {
        "id": "jkUi8JSZxAeg"
      }
    },
    {
      "cell_type": "code",
      "source": [
        "units = np.array([[30, 40, 50], [5, 10, 15], [2, 5, 7]])"
      ],
      "metadata": {
        "id": "IBlRUarQwHND"
      },
      "execution_count": 6,
      "outputs": []
    },
    {
      "cell_type": "code",
      "source": [
        "price = np.array([1000, 400, 1200])"
      ],
      "metadata": {
        "id": "NcrMtS9SwkYy"
      },
      "execution_count": 7,
      "outputs": []
    },
    {
      "cell_type": "code",
      "source": [
        "sum_of_price = units*price"
      ],
      "metadata": {
        "id": "rcz1i_ZDwr0A"
      },
      "execution_count": 8,
      "outputs": []
    },
    {
      "cell_type": "code",
      "source": [
        "sum_of_price"
      ],
      "metadata": {
        "colab": {
          "base_uri": "https://localhost:8080/"
        },
        "id": "E8Il7AfQw2Tg",
        "outputId": "62e1f989-e603-43e9-f162-98c67f8ef570"
      },
      "execution_count": 9,
      "outputs": [
        {
          "output_type": "execute_result",
          "data": {
            "text/plain": [
              "array([[30000, 16000, 60000],\n",
              "       [ 5000,  4000, 18000],\n",
              "       [ 2000,  2000,  8400]])"
            ]
          },
          "metadata": {},
          "execution_count": 9
        }
      ]
    },
    {
      "cell_type": "markdown",
      "source": [
        "**Dot Product**"
      ],
      "metadata": {
        "id": "eJduP24TxEWH"
      }
    },
    {
      "cell_type": "code",
      "source": [
        "units = np.array([[30, 40, 50], [5, 10, 15], [2, 5, 7]])"
      ],
      "metadata": {
        "id": "12Ls4Dxqw4AH"
      },
      "execution_count": 10,
      "outputs": []
    },
    {
      "cell_type": "code",
      "source": [
        "price = np.array([1000, 400, 1200])"
      ],
      "metadata": {
        "id": "tAb_x4fXxKkm"
      },
      "execution_count": 11,
      "outputs": []
    },
    {
      "cell_type": "code",
      "source": [
        "sum = np.dot(price, units)"
      ],
      "metadata": {
        "id": "NCTSSjc0xMe1"
      },
      "execution_count": 14,
      "outputs": []
    },
    {
      "cell_type": "code",
      "source": [
        "sum"
      ],
      "metadata": {
        "colab": {
          "base_uri": "https://localhost:8080/"
        },
        "id": "OzZQzbZ3xVHF",
        "outputId": "c7a68b94-02a9-4d9c-af4f-a9830a686066"
      },
      "execution_count": 15,
      "outputs": [
        {
          "output_type": "execute_result",
          "data": {
            "text/plain": [
              "array([34400, 50000, 64400])"
            ]
          },
          "metadata": {},
          "execution_count": 15
        }
      ]
    },
    {
      "cell_type": "code",
      "source": [],
      "metadata": {
        "id": "kRq9-m_FxV4E"
      },
      "execution_count": null,
      "outputs": []
    }
  ]
}