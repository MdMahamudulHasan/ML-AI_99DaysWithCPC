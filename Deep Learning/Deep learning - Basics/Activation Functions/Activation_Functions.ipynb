{
  "nbformat": 4,
  "nbformat_minor": 0,
  "metadata": {
    "colab": {
      "provenance": []
    },
    "kernelspec": {
      "name": "python3",
      "display_name": "Python 3"
    },
    "language_info": {
      "name": "python"
    }
  },
  "cells": [
    {
      "cell_type": "code",
      "execution_count": 1,
      "metadata": {
        "id": "LOy_n5p7q8FI"
      },
      "outputs": [],
      "source": [
        "import math"
      ]
    },
    {
      "cell_type": "markdown",
      "source": [
        "**Sigmoid Activation Function**"
      ],
      "metadata": {
        "id": "Lx3vFhsNrCeo"
      }
    },
    {
      "cell_type": "markdown",
      "source": [
        "$$\n",
        "\\sigma(x) = \\frac{1}{1 + e^{-x}}\n",
        "$$"
      ],
      "metadata": {
        "id": "Q_7wNAo2rJ5z"
      }
    },
    {
      "cell_type": "code",
      "source": [
        "def sigmoid(x):\n",
        "  return 1/(1 + math.exp(-x))"
      ],
      "metadata": {
        "id": "UkviskYyrBrg"
      },
      "execution_count": 2,
      "outputs": []
    },
    {
      "cell_type": "code",
      "source": [
        "Positive_sigmoid_op = sigmoid(100)"
      ],
      "metadata": {
        "id": "v31_R3ERrUqf"
      },
      "execution_count": 4,
      "outputs": []
    },
    {
      "cell_type": "code",
      "source": [
        "print(Positive_sigmoid_op)"
      ],
      "metadata": {
        "colab": {
          "base_uri": "https://localhost:8080/"
        },
        "id": "7j7EFqlSrY_3",
        "outputId": "96d52acb-e35b-4a8b-d0f9-3c2a0bc94bd2"
      },
      "execution_count": 5,
      "outputs": [
        {
          "output_type": "stream",
          "name": "stdout",
          "text": [
            "1.0\n"
          ]
        }
      ]
    },
    {
      "cell_type": "code",
      "source": [
        "Negative_sigmoid_op = sigmoid(-100)"
      ],
      "metadata": {
        "id": "77azXlECrh-H"
      },
      "execution_count": 6,
      "outputs": []
    },
    {
      "cell_type": "code",
      "source": [
        "print(Negative_sigmoid_op)"
      ],
      "metadata": {
        "colab": {
          "base_uri": "https://localhost:8080/"
        },
        "id": "-7DiXWhmrnNA",
        "outputId": "56f888a0-83c0-43cf-f93b-09964598edf5"
      },
      "execution_count": 7,
      "outputs": [
        {
          "output_type": "stream",
          "name": "stdout",
          "text": [
            "3.7200759760208356e-44\n"
          ]
        }
      ]
    },
    {
      "cell_type": "markdown",
      "source": [
        "**ReLU Activation Function**"
      ],
      "metadata": {
        "id": "Bf273xNAtZl6"
      }
    },
    {
      "cell_type": "markdown",
      "source": [
        "$$\n",
        "\\text{ReLU}(x) = \\max(0, x)\n",
        "$$"
      ],
      "metadata": {
        "id": "ShnL1rEwthrR"
      }
    },
    {
      "cell_type": "code",
      "source": [
        "def relu(x):\n",
        "  return x if x>0 else 0"
      ],
      "metadata": {
        "id": "St8jj0-2tfdB"
      },
      "execution_count": 19,
      "outputs": []
    },
    {
      "cell_type": "code",
      "source": [
        "relu_output = relu(-20)"
      ],
      "metadata": {
        "id": "YK6RAzkdtsLy"
      },
      "execution_count": 20,
      "outputs": []
    },
    {
      "cell_type": "code",
      "source": [
        "print(relu_output)"
      ],
      "metadata": {
        "colab": {
          "base_uri": "https://localhost:8080/"
        },
        "id": "bOGuN6WKtx4C",
        "outputId": "ef71ce3a-c7a8-4056-fe6b-1e068df511e1"
      },
      "execution_count": 21,
      "outputs": [
        {
          "output_type": "stream",
          "name": "stdout",
          "text": [
            "0\n"
          ]
        }
      ]
    },
    {
      "cell_type": "code",
      "source": [
        "relu_output_pos = relu(20)"
      ],
      "metadata": {
        "id": "9Qw4flF5t2j6"
      },
      "execution_count": 22,
      "outputs": []
    },
    {
      "cell_type": "code",
      "source": [
        "print(relu_output_pos)"
      ],
      "metadata": {
        "colab": {
          "base_uri": "https://localhost:8080/"
        },
        "id": "gPmgeBFDt7EC",
        "outputId": "59047f0d-9b45-426f-cea7-6701930d99a8"
      },
      "execution_count": 23,
      "outputs": [
        {
          "output_type": "stream",
          "name": "stdout",
          "text": [
            "20\n"
          ]
        }
      ]
    },
    {
      "cell_type": "markdown",
      "source": [
        "**tanh Activation Function**"
      ],
      "metadata": {
        "id": "24sibRnLrtFg"
      }
    },
    {
      "cell_type": "markdown",
      "source": [
        "$$\n",
        "\\tanh(x) = \\frac{e^{x} - e^{-x}}{e^{x} + e^{-x}}\n",
        "$$"
      ],
      "metadata": {
        "id": "6MipQqtZrzQY"
      }
    },
    {
      "cell_type": "code",
      "source": [
        "def tanh(x):\n",
        "  return (math.exp(x)-math.exp(-x)) / (math.exp(x) + math.exp(-x))"
      ],
      "metadata": {
        "id": "Jld2lKDZrpXX"
      },
      "execution_count": 8,
      "outputs": []
    },
    {
      "cell_type": "code",
      "source": [
        "pos_tanh_op = tanh(100)"
      ],
      "metadata": {
        "id": "yZVc7mgosKfI"
      },
      "execution_count": 9,
      "outputs": []
    },
    {
      "cell_type": "code",
      "source": [
        "print(pos_tanh_op)"
      ],
      "metadata": {
        "colab": {
          "base_uri": "https://localhost:8080/"
        },
        "id": "QMvJOqoVsPPg",
        "outputId": "24e43961-e963-4399-d295-71c2484005ec"
      },
      "execution_count": 11,
      "outputs": [
        {
          "output_type": "stream",
          "name": "stdout",
          "text": [
            "1.0\n"
          ]
        }
      ]
    },
    {
      "cell_type": "code",
      "source": [
        "neg_tanh_op = tanh(-100)"
      ],
      "metadata": {
        "id": "cYXYWQjnsSlA"
      },
      "execution_count": 14,
      "outputs": []
    },
    {
      "cell_type": "code",
      "source": [
        "print(neg_tanh_op)"
      ],
      "metadata": {
        "colab": {
          "base_uri": "https://localhost:8080/"
        },
        "id": "-5-clrP0sZDg",
        "outputId": "09a329d0-db7a-4387-bc39-cedec0fa27de"
      },
      "execution_count": 15,
      "outputs": [
        {
          "output_type": "stream",
          "name": "stdout",
          "text": [
            "-1.0\n"
          ]
        }
      ]
    },
    {
      "cell_type": "markdown",
      "source": [
        "**Softmax Activation function**"
      ],
      "metadata": {
        "id": "_oD2a4g5shsZ"
      }
    },
    {
      "cell_type": "markdown",
      "source": [
        "$$\n",
        "\\text{softmax}(x)_i = \\frac{e^{x_i}}{\\sum_{j=1}^{n} e^{x_j}} \\quad \\text{for } i = 1, \\ldots, n\n",
        "$$\n"
      ],
      "metadata": {
        "id": "I7yzYZ2osn44"
      }
    },
    {
      "cell_type": "code",
      "source": [
        "def softmax(x):\n",
        "\n",
        "  # x--> list\n",
        "  exp_x = [math.exp(i) for i in x]\n",
        "  sum_exp_x = sum(exp_x)\n",
        "\n",
        "  # compute softmax for each element x\n",
        "  return [j / sum_exp_x for j in exp_x]"
      ],
      "metadata": {
        "id": "qbKQHhi7sbrQ"
      },
      "execution_count": 16,
      "outputs": []
    },
    {
      "cell_type": "code",
      "source": [
        "softmax_op = softmax([2, 1, -1])"
      ],
      "metadata": {
        "id": "wbCAMyRHtONQ"
      },
      "execution_count": 17,
      "outputs": []
    },
    {
      "cell_type": "code",
      "source": [
        "print(softmax_op)"
      ],
      "metadata": {
        "colab": {
          "base_uri": "https://localhost:8080/"
        },
        "id": "7ikbKF5PtTuR",
        "outputId": "c2ed3843-8153-4a74-c5ae-77cbd6e4eee2"
      },
      "execution_count": 18,
      "outputs": [
        {
          "output_type": "stream",
          "name": "stdout",
          "text": [
            "[0.7053845126982412, 0.2594964603424191, 0.03511902695933972]\n"
          ]
        }
      ]
    },
    {
      "cell_type": "code",
      "source": [],
      "metadata": {
        "id": "dog5zclBtW5J"
      },
      "execution_count": null,
      "outputs": []
    }
  ]
}