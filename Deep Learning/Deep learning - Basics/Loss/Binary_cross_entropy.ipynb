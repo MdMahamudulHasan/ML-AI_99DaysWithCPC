{
  "nbformat": 4,
  "nbformat_minor": 0,
  "metadata": {
    "colab": {
      "provenance": []
    },
    "kernelspec": {
      "name": "python3",
      "display_name": "Python 3"
    },
    "language_info": {
      "name": "python"
    }
  },
  "cells": [
    {
      "cell_type": "code",
      "execution_count": 1,
      "metadata": {
        "id": "KvNuYBUJ2mji"
      },
      "outputs": [],
      "source": [
        "import numpy as np"
      ]
    },
    {
      "cell_type": "code",
      "source": [
        "import math"
      ],
      "metadata": {
        "id": "Tq5da85b6VpR"
      },
      "execution_count": 15,
      "outputs": []
    },
    {
      "cell_type": "code",
      "source": [
        "y_predictions = np.array([1, 0, 1, 0, 1])"
      ],
      "metadata": {
        "id": "_J9lNR1d2spD"
      },
      "execution_count": 19,
      "outputs": []
    },
    {
      "cell_type": "code",
      "source": [
        "y_true = np.array([0.9, 0.1, 0.8, 0.3, 0.95])"
      ],
      "metadata": {
        "id": "ARrEwGK520dp"
      },
      "execution_count": 20,
      "outputs": []
    },
    {
      "cell_type": "code",
      "source": [
        "def binary_cross_entropy(y_true, y_predictions):\n",
        "    epsilon = 1e-15\n",
        "    bce_loss = 0\n",
        "\n",
        "    for yt, yp in zip(y_true, y_predictions):\n",
        "        yp = max(min(yp, 1 - epsilon), epsilon)\n",
        "\n",
        "        bce_loss += yt * math.log(yp) + (1 - yt) * math.log(1 - yp)\n",
        "\n",
        "    bce_loss = -bce_loss / len(y_true)\n",
        "\n",
        "    return bce_loss"
      ],
      "metadata": {
        "id": "ngfOtYDa3DSR"
      },
      "execution_count": 22,
      "outputs": []
    },
    {
      "cell_type": "code",
      "source": [
        "binary_cross_entropy(y_true, y_predictions)"
      ],
      "metadata": {
        "colab": {
          "base_uri": "https://localhost:8080/"
        },
        "id": "cH76xcxj3smw",
        "outputId": "9c3defcc-9c54-4ab0-fcdf-d532e4e4fcfe"
      },
      "execution_count": 23,
      "outputs": [
        {
          "output_type": "execute_result",
          "data": {
            "text/plain": [
              "5.180872431056717"
            ]
          },
          "metadata": {},
          "execution_count": 23
        }
      ]
    },
    {
      "cell_type": "markdown",
      "source": [
        "Again"
      ],
      "metadata": {
        "id": "vYTNTP4u3-wX"
      }
    },
    {
      "cell_type": "code",
      "source": [
        "def binary_cross_entropy(y_true, y_pred):\n",
        "    y_true = np.array(y_true)\n",
        "    y_pred = np.array(y_pred)\n",
        "\n",
        "    epsilon = 1e-15\n",
        "    y_pred = np.clip(y_pred, epsilon, 1 - epsilon)\n",
        "\n",
        "    bce = -np.mean(y_true * np.log(y_pred) + (1 - y_true) * np.log(1 - y_pred))\n",
        "    return bce"
      ],
      "metadata": {
        "id": "Sj30vE0k3xcv"
      },
      "execution_count": 26,
      "outputs": []
    },
    {
      "cell_type": "code",
      "source": [
        "binary_cross_entropy(y_true, y_predictions)"
      ],
      "metadata": {
        "colab": {
          "base_uri": "https://localhost:8080/"
        },
        "id": "hbQk0Uxv4DAG",
        "outputId": "bc4c1249-ad11-4c0b-dc61-af71301e584b"
      },
      "execution_count": 27,
      "outputs": [
        {
          "output_type": "execute_result",
          "data": {
            "text/plain": [
              "5.180872431056717"
            ]
          },
          "metadata": {},
          "execution_count": 27
        }
      ]
    },
    {
      "cell_type": "code",
      "source": [],
      "metadata": {
        "id": "xncfq-S74y_8"
      },
      "execution_count": null,
      "outputs": []
    }
  ]
}