{
  "nbformat": 4,
  "nbformat_minor": 0,
  "metadata": {
    "colab": {
      "provenance": []
    },
    "kernelspec": {
      "name": "python3",
      "display_name": "Python 3"
    },
    "language_info": {
      "name": "python"
    }
  },
  "cells": [
    {
      "cell_type": "code",
      "execution_count": 1,
      "metadata": {
        "id": "KvNuYBUJ2mji"
      },
      "outputs": [],
      "source": [
        "import numpy as np"
      ]
    },
    {
      "cell_type": "code",
      "source": [
        "import math"
      ],
      "metadata": {
        "id": "Tq5da85b6VpR"
      },
      "execution_count": 15,
      "outputs": []
    },
    {
      "cell_type": "code",
      "source": [
        "y_predictions = np.array([1, 0, 1, 0, 1])"
      ],
      "metadata": {
        "id": "_J9lNR1d2spD"
      },
      "execution_count": 19,
      "outputs": []
    },
    {
      "cell_type": "code",
      "source": [
        "y_true = np.array([0.9, 0.1, 0.8, 0.3, 0.95])"
      ],
      "metadata": {
        "id": "ARrEwGK520dp"
      },
      "execution_count": 20,
      "outputs": []
    },
    {
      "cell_type": "code",
      "source": [
        "def mean_squared_error(y_true, y_pred):\n",
        "  mse = 0\n",
        "\n",
        "  for yt, yp in zip(y_true, y_pred):\n",
        "    mse +=(yt - yp) ** 2\n",
        "\n",
        "  mse = mse / len(y_true)\n",
        "  return mse"
      ],
      "metadata": {
        "id": "ngfOtYDa3DSR"
      },
      "execution_count": 28,
      "outputs": []
    },
    {
      "cell_type": "code",
      "source": [
        "mean_squared_error(y_true, y_predictions)"
      ],
      "metadata": {
        "colab": {
          "base_uri": "https://localhost:8080/"
        },
        "id": "cH76xcxj3smw",
        "outputId": "60f30764-533a-42e7-9485-6f5e8ebfad80"
      },
      "execution_count": 29,
      "outputs": [
        {
          "output_type": "execute_result",
          "data": {
            "text/plain": [
              "0.030499999999999992"
            ]
          },
          "metadata": {},
          "execution_count": 29
        }
      ]
    },
    {
      "cell_type": "markdown",
      "source": [
        "Again"
      ],
      "metadata": {
        "id": "vYTNTP4u3-wX"
      }
    },
    {
      "cell_type": "code",
      "source": [
        "np.mean((np.array(y_true) - np.array(y_predictions)) ** 2)"
      ],
      "metadata": {
        "colab": {
          "base_uri": "https://localhost:8080/"
        },
        "id": "Sj30vE0k3xcv",
        "outputId": "17c561d4-328f-4f89-dc81-c86736ece51e"
      },
      "execution_count": 30,
      "outputs": [
        {
          "output_type": "execute_result",
          "data": {
            "text/plain": [
              "0.030499999999999992"
            ]
          },
          "metadata": {},
          "execution_count": 30
        }
      ]
    },
    {
      "cell_type": "code",
      "source": [],
      "metadata": {
        "id": "xncfq-S74y_8"
      },
      "execution_count": null,
      "outputs": []
    }
  ]
}