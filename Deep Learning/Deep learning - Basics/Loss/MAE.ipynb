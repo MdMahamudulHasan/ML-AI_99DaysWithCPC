{
  "nbformat": 4,
  "nbformat_minor": 0,
  "metadata": {
    "colab": {
      "provenance": []
    },
    "kernelspec": {
      "name": "python3",
      "display_name": "Python 3"
    },
    "language_info": {
      "name": "python"
    }
  },
  "cells": [
    {
      "cell_type": "code",
      "execution_count": 1,
      "metadata": {
        "id": "KvNuYBUJ2mji"
      },
      "outputs": [],
      "source": [
        "import numpy as np"
      ]
    },
    {
      "cell_type": "code",
      "source": [
        "y_predictions = np.array([1, 1, 0, 0, 1])"
      ],
      "metadata": {
        "id": "_J9lNR1d2spD"
      },
      "execution_count": 2,
      "outputs": []
    },
    {
      "cell_type": "code",
      "source": [
        "y_true = np.array([0.30, 0.7, 1, 0, 0.5])"
      ],
      "metadata": {
        "id": "ARrEwGK520dp"
      },
      "execution_count": 3,
      "outputs": []
    },
    {
      "cell_type": "code",
      "source": [
        "def mae(y_true, y_predictions):\n",
        "  total_error = 0\n",
        "\n",
        "  for yt, yp in zip(y_true, y_predictions):\n",
        "    total_error += abs(yt-yp)\n",
        "\n",
        "  print('Total Error: ', total_error)\n",
        "\n",
        "  mae = total_error / len(y_true)\n",
        "  print('MAE: ', mae)"
      ],
      "metadata": {
        "id": "ngfOtYDa3DSR"
      },
      "execution_count": 8,
      "outputs": []
    },
    {
      "cell_type": "code",
      "source": [
        "mae(y_true, y_predictions)"
      ],
      "metadata": {
        "colab": {
          "base_uri": "https://localhost:8080/"
        },
        "id": "cH76xcxj3smw",
        "outputId": "b565b37e-7114-450b-cfeb-335feda2178a"
      },
      "execution_count": 9,
      "outputs": [
        {
          "output_type": "stream",
          "name": "stdout",
          "text": [
            "Total Error:  2.5\n",
            "MAE:  0.5\n"
          ]
        }
      ]
    },
    {
      "cell_type": "markdown",
      "source": [
        "Again"
      ],
      "metadata": {
        "id": "vYTNTP4u3-wX"
      }
    },
    {
      "cell_type": "code",
      "source": [
        "y_true - y_predictions"
      ],
      "metadata": {
        "colab": {
          "base_uri": "https://localhost:8080/"
        },
        "id": "Sj30vE0k3xcv",
        "outputId": "850520f3-ff0d-441c-d15c-63620c7140d2"
      },
      "execution_count": 11,
      "outputs": [
        {
          "output_type": "execute_result",
          "data": {
            "text/plain": [
              "array([-0.7, -0.3,  1. ,  0. , -0.5])"
            ]
          },
          "metadata": {},
          "execution_count": 11
        }
      ]
    },
    {
      "cell_type": "code",
      "source": [
        "np.abs(y_true - y_predictions)"
      ],
      "metadata": {
        "colab": {
          "base_uri": "https://localhost:8080/"
        },
        "id": "hbQk0Uxv4DAG",
        "outputId": "7551fde1-acf9-4272-ea16-de532b9cf8c4"
      },
      "execution_count": 12,
      "outputs": [
        {
          "output_type": "execute_result",
          "data": {
            "text/plain": [
              "array([0.7, 0.3, 1. , 0. , 0.5])"
            ]
          },
          "metadata": {},
          "execution_count": 12
        }
      ]
    },
    {
      "cell_type": "code",
      "source": [
        "np.mean(np.abs(y_true - y_predictions))"
      ],
      "metadata": {
        "colab": {
          "base_uri": "https://localhost:8080/"
        },
        "id": "b7rafL-o4I9N",
        "outputId": "853550b5-c3d8-4319-d394-08d140af9c42"
      },
      "execution_count": 13,
      "outputs": [
        {
          "output_type": "execute_result",
          "data": {
            "text/plain": [
              "0.5"
            ]
          },
          "metadata": {},
          "execution_count": 13
        }
      ]
    },
    {
      "cell_type": "code",
      "source": [
        "np.sum(np.abs(y_true - y_predictions))"
      ],
      "metadata": {
        "colab": {
          "base_uri": "https://localhost:8080/"
        },
        "id": "kBheqZP-4PDt",
        "outputId": "b358c563-8dc0-4627-e087-f0b89462d38d"
      },
      "execution_count": 14,
      "outputs": [
        {
          "output_type": "execute_result",
          "data": {
            "text/plain": [
              "2.5"
            ]
          },
          "metadata": {},
          "execution_count": 14
        }
      ]
    },
    {
      "cell_type": "code",
      "source": [],
      "metadata": {
        "id": "xncfq-S74y_8"
      },
      "execution_count": null,
      "outputs": []
    }
  ]
}