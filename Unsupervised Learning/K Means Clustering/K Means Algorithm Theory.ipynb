{
 "cells": [
  {
   "cell_type": "markdown",
   "id": "81a87159",
   "metadata": {},
   "source": [
    "## Introduction to K Means Clustering"
   ]
  },
  {
   "cell_type": "markdown",
   "id": "6f6fe003",
   "metadata": {},
   "source": [
    "K Means Clustering is an unsupervised learning algorithm that will attempt to group similar clusters together in your data.<br><br>So what does a typical clustering problem look like?<br>\n",
    "1. Cluster Similar Documents\n",
    "2. Cluster Customer based on Features\n",
    "3. Market Segmentation\n",
    "4. Identify similar physical groups"
   ]
  },
  {
   "cell_type": "markdown",
   "id": "f0386697",
   "metadata": {},
   "source": [
    "#### The overall goal is to divide data into distinct groups such that observations within each group are similar "
   ]
  },
  {
   "cell_type": "markdown",
   "id": "d601d1fd",
   "metadata": {},
   "source": [
    "## The K Means Algorithm\n",
    "1. Choose a number of Clusters 'K'\n",
    "2. Randomly assign each point to a cluster\n",
    "3. Until clusters stop changing, repeat the following:<br>\n",
    "     -> For each cluster, compute the cluster centroid by taking the mean vector of points in the cluster.<br>\n",
    "     -> Assign each data point to the cluster for which the centeroid is the closet."
   ]
  },
  {
   "cell_type": "markdown",
   "id": "231648d8",
   "metadata": {},
   "source": [
    "## Choosing a K Value\n",
    "-> There is no easy answer for choosing a \"best\" K value<br>\n",
    "-> One way is the elbow method.<br><br>\n",
    "First of all, compute the sum of squared error(SSE) for some values of K (for example 2, 4, 6, 8, etc.)<br><br>\n",
    "The SSE is defined as the sum of the squared distance between each number of the cluster and its centroid.<br><br>\n",
    "If you plot K against the SSE, you will see that the error decreases as K get's larger; this is because when the number of clusters increases, they should be smaller, so distortion is also smaller.<br><br>\n",
    "The idea of the elbow method is to choose the K at which the SSE decreases abruptly.<br><br>\n",
    "This produces an \"elbow effect\" in the graph, as you can see in the following picture."
   ]
  },
  {
   "cell_type": "code",
   "execution_count": null,
   "id": "4cfca8c8",
   "metadata": {},
   "outputs": [],
   "source": []
  }
 ],
 "metadata": {
  "kernelspec": {
   "display_name": "Python 3 (ipykernel)",
   "language": "python",
   "name": "python3"
  },
  "language_info": {
   "codemirror_mode": {
    "name": "ipython",
    "version": 3
   },
   "file_extension": ".py",
   "mimetype": "text/x-python",
   "name": "python",
   "nbconvert_exporter": "python",
   "pygments_lexer": "ipython3",
   "version": "3.10.9"
  }
 },
 "nbformat": 4,
 "nbformat_minor": 5
}
