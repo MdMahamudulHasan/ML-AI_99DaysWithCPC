{
 "cells": [
  {
   "cell_type": "markdown",
   "id": "7f32dbfb",
   "metadata": {},
   "source": [
    "### Background"
   ]
  },
  {
   "cell_type": "markdown",
   "id": "d29f4516",
   "metadata": {},
   "source": [
    "It is an unsupervised statistical technique used to examine the interrelations among a set of variables in order to identify the underlying structure of those variables.\n",
    "#### It is also known sometimes as a general factor analysis."
   ]
  },
  {
   "cell_type": "markdown",
   "id": "93224afc",
   "metadata": {},
   "source": [
    "Where regression determines a line of best fit to a data set, factor analysis determines several arthogonal lines of best fit to the data set."
   ]
  },
  {
   "cell_type": "markdown",
   "id": "50f11660",
   "metadata": {},
   "source": [
    "Orthogonal means \"at right angles\".\n",
    "  >Actually the lines are perpendicular to each other in n-dimensional space."
   ]
  },
  {
   "cell_type": "markdown",
   "id": "dfea51cb",
   "metadata": {},
   "source": [
    "n-Dimensional Space is the variable sample space.\n",
    "> There are as many dimensions as there are variables, so in a data set with 4 variables the sample space is 4-dimensional."
   ]
  },
  {
   "cell_type": "markdown",
   "id": "f35825d9",
   "metadata": {},
   "source": [
    "#### Components are a linear transformation that choose a variable system for the greatest variance of the data set comes to lie on the first axis.\n",
    "#### The second greatest varience on the second asis, and so on.....\n",
    "This process allows us to reduce the number of variables used in ans analysis."
   ]
  },
  {
   "cell_type": "markdown",
   "id": "f8292c7d",
   "metadata": {},
   "source": [
    "###### Note that components are uncorrelated, since in the sample space they are orthogonal to each other."
   ]
  },
  {
   "cell_type": "markdown",
   "id": "2ed4bad1",
   "metadata": {},
   "source": [
    "If we use this technique on a data set with a large number of variables, we can compress the amount of explained variation to just a few components."
   ]
  },
  {
   "cell_type": "markdown",
   "id": "7e80c952",
   "metadata": {},
   "source": [
    "The most challenging part of PCA is interpreting the components."
   ]
  },
  {
   "cell_type": "code",
   "execution_count": null,
   "id": "6d8b7bd8",
   "metadata": {},
   "outputs": [],
   "source": []
  }
 ],
 "metadata": {
  "kernelspec": {
   "display_name": "Python 3 (ipykernel)",
   "language": "python",
   "name": "python3"
  },
  "language_info": {
   "codemirror_mode": {
    "name": "ipython",
    "version": 3
   },
   "file_extension": ".py",
   "mimetype": "text/x-python",
   "name": "python",
   "nbconvert_exporter": "python",
   "pygments_lexer": "ipython3",
   "version": "3.10.9"
  }
 },
 "nbformat": 4,
 "nbformat_minor": 5
}
