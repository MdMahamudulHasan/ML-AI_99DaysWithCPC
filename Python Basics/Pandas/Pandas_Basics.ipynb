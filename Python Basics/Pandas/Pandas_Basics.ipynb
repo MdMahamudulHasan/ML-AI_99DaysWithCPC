{
  "nbformat": 4,
  "nbformat_minor": 0,
  "metadata": {
    "colab": {
      "provenance": []
    },
    "kernelspec": {
      "name": "python3",
      "display_name": "Python 3"
    },
    "language_info": {
      "name": "python"
    }
  },
  "cells": [
    {
      "cell_type": "markdown",
      "source": [
        "## Pandas DataFrames\n",
        "\n",
        "---\n",
        "\n"
      ],
      "metadata": {
        "id": "ZICyWC1TwY5C"
      }
    },
    {
      "cell_type": "code",
      "execution_count": 1,
      "metadata": {
        "colab": {
          "base_uri": "https://localhost:8080/"
        },
        "id": "BgjcU0B1vLrl",
        "outputId": "e720104c-bcba-41a6-d9d1-9f47500e78f1"
      },
      "outputs": [
        {
          "output_type": "stream",
          "name": "stdout",
          "text": [
            "   calories  duration\n",
            "0       420        50\n",
            "1       380        40\n",
            "2       390        45\n"
          ]
        }
      ],
      "source": [
        "# A Pandas DataFrame is a 2 dimensional data structure, like a 2 dimensional array, or a table with rows and columns.\n",
        "\n",
        "# create a simple Pandas DataFrame:\n",
        "import pandas as pd\n",
        "\n",
        "data = {\n",
        "    \"calories\": [420, 380, 390],\n",
        "    \"duration\": [50, 40, 45]\n",
        "}\n",
        "\n",
        "# load data into a DataFrame object\n",
        "df = pd.DataFrame(data)\n",
        "\n",
        "print(df)"
      ]
    },
    {
      "cell_type": "code",
      "source": [
        "# Locate Row\n",
        "\n",
        "# As you can see from the result above, the DataFrame is like a table with rows and columns.\n",
        "# Pandas use the loc attribute to return one or more specified row(s)\n",
        "\n",
        "# Return row 0:\n",
        "import pandas as pd\n",
        "\n",
        "data = {\n",
        "    \"calories\": [420, 380, 390],\n",
        "    \"duration\": [50, 40, 45]\n",
        "}\n",
        "df = pd.DataFrame(data)\n",
        "\n",
        "print(df.loc[0])"
      ],
      "metadata": {
        "colab": {
          "base_uri": "https://localhost:8080/"
        },
        "id": "YsaKWAYHxG9y",
        "outputId": "6c969eb0-26b0-4535-ef78-c760be655079"
      },
      "execution_count": 2,
      "outputs": [
        {
          "output_type": "stream",
          "name": "stdout",
          "text": [
            "calories    420\n",
            "duration     50\n",
            "Name: 0, dtype: int64\n"
          ]
        }
      ]
    },
    {
      "cell_type": "code",
      "source": [
        "# Return row 0 and 1:\n",
        "import pandas as pd\n",
        "\n",
        "data = {\n",
        "    \"calories\": [420, 380, 390],\n",
        "    \"duration\": [50, 40, 45]\n",
        "}\n",
        "df = pd.DataFrame(data)\n",
        "\n",
        "print(df.loc[[0, 1]])"
      ],
      "metadata": {
        "colab": {
          "base_uri": "https://localhost:8080/"
        },
        "id": "6aZqg8jQxxz5",
        "outputId": "d2523dc2-449b-485d-8136-cf26eb6bf1c9"
      },
      "execution_count": 3,
      "outputs": [
        {
          "output_type": "stream",
          "name": "stdout",
          "text": [
            "   calories  duration\n",
            "0       420        50\n",
            "1       380        40\n"
          ]
        }
      ]
    },
    {
      "cell_type": "code",
      "source": [
        "# Named Indexes\n",
        "# with the index argument, you can name your indexes.\n",
        "\n",
        "# add a list of names to give each row a name:\n",
        "import pandas as pd\n",
        "\n",
        "data = {\n",
        "    \"calories\": [420, 380, 390],\n",
        "    \"duration\": [50, 40, 45]\n",
        "}\n",
        "\n",
        "df = pd.DataFrame(data, index=[\"day1\", \"day2\", \"day3\"])\n",
        "\n",
        "print(df)"
      ],
      "metadata": {
        "colab": {
          "base_uri": "https://localhost:8080/"
        },
        "id": "E1t5_B8Iyh63",
        "outputId": "a5ffa604-c6be-483a-daa1-f02e12032116"
      },
      "execution_count": 4,
      "outputs": [
        {
          "output_type": "stream",
          "name": "stdout",
          "text": [
            "      calories  duration\n",
            "day1       420        50\n",
            "day2       380        40\n",
            "day3       390        45\n"
          ]
        }
      ]
    },
    {
      "cell_type": "markdown",
      "source": [
        "## Pandas Read CSV\n",
        "\n",
        "---\n",
        "\n"
      ],
      "metadata": {
        "id": "ZaE3sQaxzo2P"
      }
    },
    {
      "cell_type": "code",
      "source": [
        "# Read CSV Files\n",
        "# A simple way to store big data sets is to use CSV files (comma separated files).\n",
        "# CSV files contains plain text and is a well know format that can be read by everyone including Pandas.\n",
        "# In our examples we will be using a CSV file called 'data.csv'.\n",
        "\n",
        "# Load the CSV into a DataFrame:\n",
        "import pandas as pd\n",
        "\n",
        "df = pd.read_csv(\"file_location . file_extention(csv)\")\n",
        "\n",
        "print(df.to_string())"
      ],
      "metadata": {
        "id": "a2f8ywXlzgfW"
      },
      "execution_count": null,
      "outputs": []
    },
    {
      "cell_type": "markdown",
      "source": [
        "## Pandas Read JSON\n",
        "\n",
        "---\n",
        "\n"
      ],
      "metadata": {
        "id": "lsEi5o8C2EVU"
      }
    },
    {
      "cell_type": "code",
      "source": [
        "# Read JSON\n",
        "# Big data sets are often stored, or extracted as JSON.\n",
        "# JSON is plain text, but has the format of an object, and is well known in the world of programming, including Pandas.\n",
        "# In our examples we will be using a JSON file called 'data.json'.\n",
        "\n",
        "# Load the JSON file into a DataFrame:\n",
        "import pandas as pd\n",
        "\n",
        "df = pd.read_json('data.json')\n",
        "\n",
        "print(df.to_string())"
      ],
      "metadata": {
        "id": "Jrep9zOU2D60"
      },
      "execution_count": null,
      "outputs": []
    },
    {
      "cell_type": "markdown",
      "source": [
        "## Analyzing DataFrames\n",
        "\n",
        "---\n",
        "\n"
      ],
      "metadata": {
        "id": "nkQri_rL2YZa"
      }
    },
    {
      "cell_type": "code",
      "source": [
        "# Viewing the Data\n",
        "# One of the most used method for getting a quick overview of the DataFrame, is the head() method.\n",
        "# The head() method returns the headers and a specified number of rows, starting from the top.\n",
        "\n",
        "# Get a quick overview by printing the first 10 rows of the DataFrame:\n",
        "import pandas as pd\n",
        "\n",
        "df = pd.read_csv('G:\\ML & AI 99DaysWithCPC\\Python Basics\\Pandas\\exercise.csv')\n",
        "\n",
        "print(df.head(10))"
      ],
      "metadata": {
        "id": "s2s8LLir2X6F"
      },
      "execution_count": 7,
      "outputs": []
    },
    {
      "cell_type": "code",
      "source": [
        "# Print the first 5 rows of the DataFrame:\n",
        "import pandas as pd\n",
        "\n",
        "df = pd.read_csv('data.csv')\n",
        "\n",
        "print(df.head())"
      ],
      "metadata": {
        "id": "w3RQamqh3qSC"
      },
      "execution_count": null,
      "outputs": []
    },
    {
      "cell_type": "code",
      "source": [
        "# There is also a tail() method for viewing the last rows of the DataFrame.\n",
        "# The tail() method returns the headers and a specified number of rows, starting from the bottom.\n",
        "\n",
        "# Print the last 5 rows of the DataFrame:\n",
        "print(df.tail())"
      ],
      "metadata": {
        "id": "zNr_9I-15OHR"
      },
      "execution_count": null,
      "outputs": []
    }
  ]
}