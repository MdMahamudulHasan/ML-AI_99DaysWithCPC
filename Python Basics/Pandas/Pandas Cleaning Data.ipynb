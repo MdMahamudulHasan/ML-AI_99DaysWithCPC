{
 "cells": [
  {
   "cell_type": "markdown",
   "id": "0f4dd5d6",
   "metadata": {},
   "source": [
    "## Cleaning Data"
   ]
  },
  {
   "cell_type": "code",
   "execution_count": null,
   "id": "8019d598",
   "metadata": {},
   "outputs": [],
   "source": [
    "# Data Cleaning\n",
    "# Data cleaning means fixing bad data in your data set.\n",
    "\n",
    "# Bad data could be:\n",
    "    # Empty cells\n",
    "    # Data in wrong format\n",
    "    # Wrong data\n",
    "    # Duplicates"
   ]
  },
  {
   "cell_type": "markdown",
   "id": "922b72fd",
   "metadata": {},
   "source": [
    "## Cleaning Empty Cells"
   ]
  },
  {
   "cell_type": "code",
   "execution_count": 1,
   "id": "424ce0ef",
   "metadata": {},
   "outputs": [
    {
     "name": "stdout",
     "output_type": "stream",
     "text": [
      "   Duration          Date  Pulse  Maxpulse  Calories\n",
      "0        60  '2020/12/01'    110       130     409.1\n",
      "1        60  '2020/12/02'    117       145     479.0\n",
      "2        60  '2020/12/03'    103       135     340.0\n",
      "3        45  '2020/12/04'    109       175     282.4\n",
      "4        45  '2020/12/05'    117       148     406.0\n"
     ]
    }
   ],
   "source": [
    "# Empty Cells\n",
    "# Empty cells can potentially give you a wrong result when you analyze data.\n",
    "\n",
    "# Remove Rows\n",
    "# One way to deal with empty cells is to remove rows that contain empty cells.\n",
    "\n",
    "# This is usually OK, since data sets can be very big, and removing a few rows will not have a big impact on the result.\n",
    "\n",
    "\n",
    "# Load and show data:\n",
    "import pandas as pd\n",
    "\n",
    "df = pd.read_csv('G:\\ML & AI 99DaysWithCPC\\Python Basics\\Pandas\\data.csv')\n",
    "\n",
    "print(df.head())"
   ]
  },
  {
   "cell_type": "code",
   "execution_count": 2,
   "id": "1db60513",
   "metadata": {},
   "outputs": [
    {
     "name": "stdout",
     "output_type": "stream",
     "text": [
      "    Duration          Date  Pulse  Maxpulse  Calories\n",
      "0         60  '2020/12/01'    110       130     409.1\n",
      "1         60  '2020/12/02'    117       145     479.0\n",
      "2         60  '2020/12/03'    103       135     340.0\n",
      "3         45  '2020/12/04'    109       175     282.4\n",
      "4         45  '2020/12/05'    117       148     406.0\n",
      "5         60  '2020/12/06'    102       127     300.0\n",
      "6         60  '2020/12/07'    110       136     374.0\n",
      "7        450  '2020/12/08'    104       134     253.3\n",
      "8         30  '2020/12/09'    109       133     195.1\n",
      "9         60  '2020/12/10'     98       124     269.0\n",
      "10        60  '2020/12/11'    103       147     329.3\n",
      "11        60  '2020/12/12'    100       120     250.7\n",
      "12        60  '2020/12/12'    100       120     250.7\n",
      "13        60  '2020/12/13'    106       128     345.3\n",
      "14        60  '2020/12/14'    104       132     379.3\n",
      "15        60  '2020/12/15'     98       123     275.0\n",
      "16        60  '2020/12/16'     98       120     215.2\n",
      "17        60  '2020/12/17'    100       120     300.0\n",
      "19        60  '2020/12/19'    103       123     323.0\n",
      "20        45  '2020/12/20'     97       125     243.0\n",
      "21        60  '2020/12/21'    108       131     364.2\n",
      "23        60  '2020/12/23'    130       101     300.0\n",
      "24        45  '2020/12/24'    105       132     246.0\n",
      "25        60  '2020/12/25'    102       126     334.5\n",
      "26        60      20201226    100       120     250.0\n",
      "27        60  '2020/12/27'     92       118     241.0\n",
      "29        60  '2020/12/29'    100       132     280.0\n",
      "30        60  '2020/12/30'    102       129     380.3\n",
      "31        60  '2020/12/31'     92       115     243.0\n"
     ]
    }
   ],
   "source": [
    "# Return a new Data Frame with no empty cells:\n",
    "import pandas as pd\n",
    "\n",
    "df = pd.read_csv('G:\\ML & AI 99DaysWithCPC\\Python Basics\\Pandas\\data.csv')\n",
    "\n",
    "new_df = df.dropna()\n",
    "\n",
    "print(new_df.to_string())"
   ]
  },
  {
   "cell_type": "code",
   "execution_count": null,
   "id": "88c3b70e",
   "metadata": {},
   "outputs": [],
   "source": [
    "# If you want to change the original DataFrame, use the inplace = True argument:\n",
    "\n",
    "# Remove all rows with NULL values:\n",
    "import pandas as pd\n",
    "\n",
    "df = pd.read_csv('G:\\ML & AI 99DaysWithCPC\\Python Basics\\Pandas\\data.csv')\n",
    "\n",
    "df.dropna(inplace = True)\n",
    "\n",
    "print(df.to_string())"
   ]
  },
  {
   "cell_type": "code",
   "execution_count": 4,
   "id": "1a1aee36",
   "metadata": {},
   "outputs": [
    {
     "name": "stdout",
     "output_type": "stream",
     "text": [
      "    Duration          Date  Pulse  Maxpulse  Calories\n",
      "0         60  '2020/12/01'    110       130     409.1\n",
      "1         60  '2020/12/02'    117       145     479.0\n",
      "2         60  '2020/12/03'    103       135     340.0\n",
      "3         45  '2020/12/04'    109       175     282.4\n",
      "4         45  '2020/12/05'    117       148     406.0\n",
      "5         60  '2020/12/06'    102       127     300.0\n",
      "6         60  '2020/12/07'    110       136     374.0\n",
      "7        450  '2020/12/08'    104       134     253.3\n",
      "8         30  '2020/12/09'    109       133     195.1\n",
      "9         60  '2020/12/10'     98       124     269.0\n",
      "10        60  '2020/12/11'    103       147     329.3\n",
      "11        60  '2020/12/12'    100       120     250.7\n",
      "12        60  '2020/12/12'    100       120     250.7\n",
      "13        60  '2020/12/13'    106       128     345.3\n",
      "14        60  '2020/12/14'    104       132     379.3\n",
      "15        60  '2020/12/15'     98       123     275.0\n",
      "16        60  '2020/12/16'     98       120     215.2\n",
      "17        60  '2020/12/17'    100       120     300.0\n",
      "18        45  '2020/12/18'     90       112     130.0\n",
      "19        60  '2020/12/19'    103       123     323.0\n",
      "20        45  '2020/12/20'     97       125     243.0\n",
      "21        60  '2020/12/21'    108       131     364.2\n",
      "22        45           130    100       119     282.0\n",
      "23        60  '2020/12/23'    130       101     300.0\n",
      "24        45  '2020/12/24'    105       132     246.0\n",
      "25        60  '2020/12/25'    102       126     334.5\n",
      "26        60      20201226    100       120     250.0\n",
      "27        60  '2020/12/27'     92       118     241.0\n",
      "28        60  '2020/12/28'    103       132     130.0\n",
      "29        60  '2020/12/29'    100       132     280.0\n",
      "30        60  '2020/12/30'    102       129     380.3\n",
      "31        60  '2020/12/31'     92       115     243.0\n"
     ]
    }
   ],
   "source": [
    "# Replace Empty Values\n",
    "# Another way of dealing with empty cells is to insert a new value instead.\n",
    "# This way you do not have to delete entire rows just because of some empty cells.\n",
    "# The fillna() method allows us to replace empty cells with a value:\n",
    "\n",
    "\n",
    "# Replace NULL values with th number 130:\n",
    "import pandas as pd\n",
    "\n",
    "df = pd.read_csv('G:\\ML & AI 99DaysWithCPC\\Python Basics\\Pandas\\data.csv')\n",
    "\n",
    "df.fillna(130, inplace = True)\n",
    "\n",
    "print(df.to_string())"
   ]
  },
  {
   "cell_type": "code",
   "execution_count": 5,
   "id": "130479a4",
   "metadata": {},
   "outputs": [
    {
     "name": "stdout",
     "output_type": "stream",
     "text": [
      "    Duration          Date  Pulse  Maxpulse  Calories\n",
      "0         60  '2020/12/01'    110       130     409.1\n",
      "1         60  '2020/12/02'    117       145     479.0\n",
      "2         60  '2020/12/03'    103       135     340.0\n",
      "3         45  '2020/12/04'    109       175     282.4\n",
      "4         45  '2020/12/05'    117       148     406.0\n",
      "5         60  '2020/12/06'    102       127     300.0\n",
      "6         60  '2020/12/07'    110       136     374.0\n",
      "7        450  '2020/12/08'    104       134     253.3\n",
      "8         30  '2020/12/09'    109       133     195.1\n",
      "9         60  '2020/12/10'     98       124     269.0\n",
      "10        60  '2020/12/11'    103       147     329.3\n",
      "11        60  '2020/12/12'    100       120     250.7\n",
      "12        60  '2020/12/12'    100       120     250.7\n",
      "13        60  '2020/12/13'    106       128     345.3\n",
      "14        60  '2020/12/14'    104       132     379.3\n",
      "15        60  '2020/12/15'     98       123     275.0\n",
      "16        60  '2020/12/16'     98       120     215.2\n",
      "17        60  '2020/12/17'    100       120     300.0\n",
      "18        45  '2020/12/18'     90       112     130.0\n",
      "19        60  '2020/12/19'    103       123     323.0\n",
      "20        45  '2020/12/20'     97       125     243.0\n",
      "21        60  '2020/12/21'    108       131     364.2\n",
      "22        45           NaN    100       119     282.0\n",
      "23        60  '2020/12/23'    130       101     300.0\n",
      "24        45  '2020/12/24'    105       132     246.0\n",
      "25        60  '2020/12/25'    102       126     334.5\n",
      "26        60      20201226    100       120     250.0\n",
      "27        60  '2020/12/27'     92       118     241.0\n",
      "28        60  '2020/12/28'    103       132     130.0\n",
      "29        60  '2020/12/29'    100       132     280.0\n",
      "30        60  '2020/12/30'    102       129     380.3\n",
      "31        60  '2020/12/31'     92       115     243.0\n"
     ]
    }
   ],
   "source": [
    "# Replace Only For Specified Columns\n",
    "# The example above replaces all empty cells in the whole Data Frame.\n",
    "# To only replace empty values for one column, specify the column name for the DataFrame:\n",
    "\n",
    "\n",
    "# Replace NULL values in the \"Calories\" columns with the number 130:\n",
    "import pandas as pd\n",
    "\n",
    "df = pd.read_csv('G:\\ML & AI 99DaysWithCPC\\Python Basics\\Pandas\\data.csv')\n",
    "\n",
    "df[\"Calories\"].fillna(130, inplace = True)\n",
    "\n",
    "print(df.to_string())"
   ]
  },
  {
   "cell_type": "code",
   "execution_count": 6,
   "id": "96260b0d",
   "metadata": {},
   "outputs": [
    {
     "name": "stdout",
     "output_type": "stream",
     "text": [
      "    Duration          Date  Pulse  Maxpulse  Calories\n",
      "0         60  '2020/12/01'    110       130    409.10\n",
      "1         60  '2020/12/02'    117       145    479.00\n",
      "2         60  '2020/12/03'    103       135    340.00\n",
      "3         45  '2020/12/04'    109       175    282.40\n",
      "4         45  '2020/12/05'    117       148    406.00\n",
      "5         60  '2020/12/06'    102       127    300.00\n",
      "6         60  '2020/12/07'    110       136    374.00\n",
      "7        450  '2020/12/08'    104       134    253.30\n",
      "8         30  '2020/12/09'    109       133    195.10\n",
      "9         60  '2020/12/10'     98       124    269.00\n",
      "10        60  '2020/12/11'    103       147    329.30\n",
      "11        60  '2020/12/12'    100       120    250.70\n",
      "12        60  '2020/12/12'    100       120    250.70\n",
      "13        60  '2020/12/13'    106       128    345.30\n",
      "14        60  '2020/12/14'    104       132    379.30\n",
      "15        60  '2020/12/15'     98       123    275.00\n",
      "16        60  '2020/12/16'     98       120    215.20\n",
      "17        60  '2020/12/17'    100       120    300.00\n",
      "18        45  '2020/12/18'     90       112    304.68\n",
      "19        60  '2020/12/19'    103       123    323.00\n",
      "20        45  '2020/12/20'     97       125    243.00\n",
      "21        60  '2020/12/21'    108       131    364.20\n",
      "22        45           NaN    100       119    282.00\n",
      "23        60  '2020/12/23'    130       101    300.00\n",
      "24        45  '2020/12/24'    105       132    246.00\n",
      "25        60  '2020/12/25'    102       126    334.50\n",
      "26        60      20201226    100       120    250.00\n",
      "27        60  '2020/12/27'     92       118    241.00\n",
      "28        60  '2020/12/28'    103       132    304.68\n",
      "29        60  '2020/12/29'    100       132    280.00\n",
      "30        60  '2020/12/30'    102       129    380.30\n",
      "31        60  '2020/12/31'     92       115    243.00\n"
     ]
    }
   ],
   "source": [
    "# Replace Using Mean, Median, or Mode\n",
    "# A common way to replace empty cells, is to calculate the mean, median or mode value of the column.\n",
    "# Pandas uses the mean() median() and mode() methods to calculate the respective values for a specified column:\n",
    "\n",
    "\n",
    "# calculate the MEAN, and replace any empty values with it\n",
    "import pandas as pd\n",
    "\n",
    "df = pd.read_csv('G:\\ML & AI 99DaysWithCPC\\Python Basics\\Pandas\\data.csv')\n",
    "\n",
    "x = df[\"Calories\"].mean()\n",
    "df[\"Calories\"].fillna(x, inplace=True)\n",
    "\n",
    "print(df.to_string())\n",
    "\n",
    "# x = df[\"Calories\"].median()\n",
    "# x = df[\"Calories\"].mode()[0]"
   ]
  },
  {
   "cell_type": "markdown",
   "id": "4b4cc36c",
   "metadata": {},
   "source": [
    "## Cleaning Data of Wrong Format"
   ]
  },
  {
   "cell_type": "code",
   "execution_count": 7,
   "id": "41acb82d",
   "metadata": {},
   "outputs": [
    {
     "name": "stdout",
     "output_type": "stream",
     "text": [
      "    Duration          Date  Pulse  Maxpulse  Calories       Data\n",
      "0         60  '2020/12/01'    110       130     409.1 2020-12-01\n",
      "1         60  '2020/12/02'    117       145     479.0 2020-12-02\n",
      "2         60  '2020/12/03'    103       135     340.0 2020-12-03\n",
      "3         45  '2020/12/04'    109       175     282.4 2020-12-04\n",
      "4         45  '2020/12/05'    117       148     406.0 2020-12-05\n",
      "5         60  '2020/12/06'    102       127     300.0 2020-12-06\n",
      "6         60  '2020/12/07'    110       136     374.0 2020-12-07\n",
      "7        450  '2020/12/08'    104       134     253.3 2020-12-08\n",
      "8         30  '2020/12/09'    109       133     195.1 2020-12-09\n",
      "9         60  '2020/12/10'     98       124     269.0 2020-12-10\n",
      "10        60  '2020/12/11'    103       147     329.3 2020-12-11\n",
      "11        60  '2020/12/12'    100       120     250.7 2020-12-12\n",
      "12        60  '2020/12/12'    100       120     250.7 2020-12-12\n",
      "13        60  '2020/12/13'    106       128     345.3 2020-12-13\n",
      "14        60  '2020/12/14'    104       132     379.3 2020-12-14\n",
      "15        60  '2020/12/15'     98       123     275.0 2020-12-15\n",
      "16        60  '2020/12/16'     98       120     215.2 2020-12-16\n",
      "17        60  '2020/12/17'    100       120     300.0 2020-12-17\n",
      "18        45  '2020/12/18'     90       112       NaN 2020-12-18\n",
      "19        60  '2020/12/19'    103       123     323.0 2020-12-19\n",
      "20        45  '2020/12/20'     97       125     243.0 2020-12-20\n",
      "21        60  '2020/12/21'    108       131     364.2 2020-12-21\n",
      "22        45           NaN    100       119     282.0        NaT\n",
      "23        60  '2020/12/23'    130       101     300.0 2020-12-23\n",
      "24        45  '2020/12/24'    105       132     246.0 2020-12-24\n",
      "25        60  '2020/12/25'    102       126     334.5 2020-12-25\n",
      "26        60      20201226    100       120     250.0 2020-12-26\n",
      "27        60  '2020/12/27'     92       118     241.0 2020-12-27\n",
      "28        60  '2020/12/28'    103       132       NaN 2020-12-28\n",
      "29        60  '2020/12/29'    100       132     280.0 2020-12-29\n",
      "30        60  '2020/12/30'    102       129     380.3 2020-12-30\n",
      "31        60  '2020/12/31'     92       115     243.0 2020-12-31\n"
     ]
    }
   ],
   "source": [
    "# Let's try to convert all cells in the 'Date' column into dates.\n",
    "# Pandas has a to_datetime() method for this:\n",
    "\n",
    "# Convert to date\n",
    "import pandas as pd\n",
    "\n",
    "df = pd.read_csv('G:\\ML & AI 99DaysWithCPC\\Python Basics\\Pandas\\data.csv')\n",
    "\n",
    "df['Data'] = pd.to_datetime(df['Date'])\n",
    "\n",
    "print(df.to_string())"
   ]
  },
  {
   "cell_type": "markdown",
   "id": "0e61d552",
   "metadata": {},
   "source": [
    "## Fixing Wrong Data"
   ]
  },
  {
   "cell_type": "code",
   "execution_count": 9,
   "id": "e2be737e",
   "metadata": {},
   "outputs": [
    {
     "name": "stdout",
     "output_type": "stream",
     "text": [
      "    Duration          Date  Pulse  Maxpulse  Calories\n",
      "0         60  '2020/12/01'    110       130     409.1\n",
      "1         60  '2020/12/02'    117       145     479.0\n",
      "2         60  '2020/12/03'    103       135     340.0\n",
      "3         45  '2020/12/04'    109       175     282.4\n",
      "4         45  '2020/12/05'    117       148     406.0\n",
      "5         60  '2020/12/06'    102       127     300.0\n",
      "6         60  '2020/12/07'    110       136     374.0\n",
      "7         45  '2020/12/08'    104       134     253.3\n",
      "8         30  '2020/12/09'    109       133     195.1\n",
      "9         60  '2020/12/10'     98       124     269.0\n",
      "10        60  '2020/12/11'    103       147     329.3\n",
      "11        60  '2020/12/12'    100       120     250.7\n",
      "12        60  '2020/12/12'    100       120     250.7\n",
      "13        60  '2020/12/13'    106       128     345.3\n",
      "14        60  '2020/12/14'    104       132     379.3\n",
      "15        60  '2020/12/15'     98       123     275.0\n",
      "16        60  '2020/12/16'     98       120     215.2\n",
      "17        60  '2020/12/17'    100       120     300.0\n",
      "18        45  '2020/12/18'     90       112       NaN\n",
      "19        60  '2020/12/19'    103       123     323.0\n",
      "20        45  '2020/12/20'     97       125     243.0\n",
      "21        60  '2020/12/21'    108       131     364.2\n",
      "22        45           NaN    100       119     282.0\n",
      "23        60  '2020/12/23'    130       101     300.0\n",
      "24        45  '2020/12/24'    105       132     246.0\n",
      "25        60  '2020/12/25'    102       126     334.5\n",
      "26        60      20201226    100       120     250.0\n",
      "27        60  '2020/12/27'     92       118     241.0\n",
      "28        60  '2020/12/28'    103       132       NaN\n",
      "29        60  '2020/12/29'    100       132     280.0\n",
      "30        60  '2020/12/30'    102       129     380.3\n",
      "31        60  '2020/12/31'     92       115     243.0\n"
     ]
    }
   ],
   "source": [
    "# Replacing Values\n",
    "# One way to fix wrong values is to replace them with something else.\n",
    "\n",
    "import pandas as pd\n",
    "\n",
    "df = pd.read_csv('G:\\ML & AI 99DaysWithCPC\\Python Basics\\Pandas\\data.csv')\n",
    "\n",
    "df.loc[7,'Duration'] = 45\n",
    "\n",
    "print(df.to_string())"
   ]
  },
  {
   "cell_type": "markdown",
   "id": "e45c853f",
   "metadata": {},
   "source": [
    "## Removing Duplicates"
   ]
  },
  {
   "cell_type": "code",
   "execution_count": 10,
   "id": "391da17f",
   "metadata": {},
   "outputs": [
    {
     "name": "stdout",
     "output_type": "stream",
     "text": [
      "0     False\n",
      "1     False\n",
      "2     False\n",
      "3     False\n",
      "4     False\n",
      "5     False\n",
      "6     False\n",
      "7     False\n",
      "8     False\n",
      "9     False\n",
      "10    False\n",
      "11    False\n",
      "12     True\n",
      "13    False\n",
      "14    False\n",
      "15    False\n",
      "16    False\n",
      "17    False\n",
      "18    False\n",
      "19    False\n",
      "20    False\n",
      "21    False\n",
      "22    False\n",
      "23    False\n",
      "24    False\n",
      "25    False\n",
      "26    False\n",
      "27    False\n",
      "28    False\n",
      "29    False\n",
      "30    False\n",
      "31    False\n",
      "dtype: bool\n"
     ]
    }
   ],
   "source": [
    "# To discover duplicates, we can use the duplicated() method.\n",
    "# The duplicated() method returns a Boolean values for each row:\n",
    "\n",
    "import pandas as pd\n",
    "\n",
    "df = pd.read_csv('G:\\ML & AI 99DaysWithCPC\\Python Basics\\Pandas\\data.csv')\n",
    "\n",
    "print(df.duplicated())"
   ]
  },
  {
   "cell_type": "code",
   "execution_count": 11,
   "id": "cc202526",
   "metadata": {},
   "outputs": [
    {
     "name": "stdout",
     "output_type": "stream",
     "text": [
      "    Duration          Date  Pulse  Maxpulse  Calories\n",
      "0         60  '2020/12/01'    110       130     409.1\n",
      "1         60  '2020/12/02'    117       145     479.0\n",
      "2         60  '2020/12/03'    103       135     340.0\n",
      "3         45  '2020/12/04'    109       175     282.4\n",
      "4         45  '2020/12/05'    117       148     406.0\n",
      "5         60  '2020/12/06'    102       127     300.0\n",
      "6         60  '2020/12/07'    110       136     374.0\n",
      "7        450  '2020/12/08'    104       134     253.3\n",
      "8         30  '2020/12/09'    109       133     195.1\n",
      "9         60  '2020/12/10'     98       124     269.0\n",
      "10        60  '2020/12/11'    103       147     329.3\n",
      "11        60  '2020/12/12'    100       120     250.7\n",
      "13        60  '2020/12/13'    106       128     345.3\n",
      "14        60  '2020/12/14'    104       132     379.3\n",
      "15        60  '2020/12/15'     98       123     275.0\n",
      "16        60  '2020/12/16'     98       120     215.2\n",
      "17        60  '2020/12/17'    100       120     300.0\n",
      "18        45  '2020/12/18'     90       112       NaN\n",
      "19        60  '2020/12/19'    103       123     323.0\n",
      "20        45  '2020/12/20'     97       125     243.0\n",
      "21        60  '2020/12/21'    108       131     364.2\n",
      "22        45           NaN    100       119     282.0\n",
      "23        60  '2020/12/23'    130       101     300.0\n",
      "24        45  '2020/12/24'    105       132     246.0\n",
      "25        60  '2020/12/25'    102       126     334.5\n",
      "26        60      20201226    100       120     250.0\n",
      "27        60  '2020/12/27'     92       118     241.0\n",
      "28        60  '2020/12/28'    103       132       NaN\n",
      "29        60  '2020/12/29'    100       132     280.0\n",
      "30        60  '2020/12/30'    102       129     380.3\n",
      "31        60  '2020/12/31'     92       115     243.0\n"
     ]
    }
   ],
   "source": [
    "# Removing Duplicates\n",
    "# To remove duplicates, use the drop_duplicates() method.\n",
    "\n",
    "import pandas as pd\n",
    "\n",
    "df = pd.read_csv('G:\\ML & AI 99DaysWithCPC\\Python Basics\\Pandas\\data.csv')\n",
    "\n",
    "df.drop_duplicates(inplace = True)\n",
    "\n",
    "print(df.to_string())"
   ]
  },
  {
   "cell_type": "markdown",
   "id": "fd581427",
   "metadata": {},
   "source": [
    "#                                                        Data Correlations"
   ]
  },
  {
   "cell_type": "code",
   "execution_count": 14,
   "id": "d42d0d53",
   "metadata": {},
   "outputs": [
    {
     "name": "stdout",
     "output_type": "stream",
     "text": [
      "          Duration     Pulse  Maxpulse  Calories\n",
      "Duration  1.000000  0.004410  0.049959 -0.114169\n",
      "Pulse     0.004410  1.000000  0.276583  0.513186\n",
      "Maxpulse  0.049959  0.276583  1.000000  0.357460\n",
      "Calories -0.114169  0.513186  0.357460  1.000000\n"
     ]
    }
   ],
   "source": [
    "# Finding Relationships\n",
    "# A great aspect of the Pandas module is the corr() method.\n",
    "\n",
    "# The corr() method calculates the relationship between each column in your data set.\n",
    "# The examples in this page uses a CSV file called: 'data.csv'.\n",
    "\n",
    "import pandas as pd\n",
    "\n",
    "df = pd.read_csv('G:\\ML & AI 99DaysWithCPC\\Python Basics\\Pandas\\data.csv')\n",
    "\n",
    "print(df.corr(numeric_only=True))"
   ]
  },
  {
   "cell_type": "markdown",
   "id": "fcf8c81e",
   "metadata": {},
   "source": [
    "# Pandas - Plotting"
   ]
  },
  {
   "cell_type": "code",
   "execution_count": 15,
   "id": "92b8a817",
   "metadata": {},
   "outputs": [
    {
     "data": {
      "image/png": "[encoded data removed]",
      "text/plain": [
       "<Figure size 640x480 with 1 Axes>"
      ]
     },
     "metadata": {},
     "output_type": "display_data"
    }
   ],
   "source": [
    "# Plotting\n",
    "# Pandas uses the plot() method to create diagrams.\n",
    "# We can use Pyplot, a submodule of the Matplotlib library to visualize the diagram on the screen.\n",
    "\n",
    "# Import pyplot from Matplotlib and Visualize our DataFrame\n",
    "import pandas as pd\n",
    "import matplotlib.pyplot as plt\n",
    "\n",
    "df = pd.read_csv('G:\\ML & AI 99DaysWithCPC\\Python Basics\\Pandas\\data.csv')\n",
    "\n",
    "df.plot()\n",
    "plt.show()"
   ]
  },
  {
   "cell_type": "code",
   "execution_count": 17,
   "id": "72ab7f53",
   "metadata": {},
   "outputs": [
    {
     "data": {
      "image/png": "[encoded data removed]",
      "text/plain": [
       "<Figure size 640x480 with 1 Axes>"
      ]
     },
     "metadata": {},
     "output_type": "display_data"
    }
   ],
   "source": [
    "# Scatter Plot\n",
    "# Specify that you want a scatter plot with the kind argument:\n",
    "\n",
    "# kind = 'scatter'\n",
    "# A scatter plot needs an x- and a y-axis.\n",
    "import pandas as pd\n",
    "import matplotlib.pyplot as plt\n",
    "\n",
    "df = pd.read_csv('G:\\ML & AI 99DaysWithCPC\\Python Basics\\Pandas\\data.csv')\n",
    "\n",
    "df.plot(kind = 'scatter', x = 'Duration', y = 'Calories')\n",
    "\n",
    "plt.show()"
   ]
  },
  {
   "cell_type": "code",
   "execution_count": 18,
   "id": "83e76550",
   "metadata": {},
   "outputs": [
    {
     "data": {
      "image/png": "[encoded data removed]",
      "text/plain": [
       "<Figure size 640x480 with 1 Axes>"
      ]
     },
     "metadata": {},
     "output_type": "display_data"
    }
   ],
   "source": [
    "# A scatterplot where there are no relationship between the columns:\n",
    "\n",
    "import pandas as pd\n",
    "import matplotlib.pyplot as plt\n",
    "\n",
    "df = pd.read_csv('G:\\ML & AI 99DaysWithCPC\\Python Basics\\Pandas\\data.csv')\n",
    "\n",
    "df.plot(kind = 'scatter', x = 'Duration', y = 'Maxpulse')\n",
    "\n",
    "plt.show()"
   ]
  },
  {
   "cell_type": "code",
   "execution_count": 19,
   "id": "445afde9",
   "metadata": {},
   "outputs": [
    {
     "data": {
      "image/png": "[encoded data removed]",
      "text/plain": [
       "<Figure size 640x480 with 1 Axes>"
      ]
     },
     "metadata": {},
     "output_type": "display_data"
    }
   ],
   "source": [
    "# Histogram\n",
    "# Use the kind argument to specify that you want a histogram:\n",
    "\n",
    "# kind = 'hist'\n",
    "\n",
    "# A histogram needs only one column.\n",
    "\n",
    "import pandas as pd\n",
    "import matplotlib.pyplot as plt\n",
    "\n",
    "df = pd.read_csv('G:\\ML & AI 99DaysWithCPC\\Python Basics\\Pandas\\data.csv')\n",
    "\n",
    "df[\"Duration\"].plot(kind = 'hist')\n",
    "\n",
    "plt.show()"
   ]
  },
  {
   "cell_type": "code",
   "execution_count": null,
   "id": "44895718",
   "metadata": {},
   "outputs": [],
   "source": []
  }
 ],
 "metadata": {
  "kernelspec": {
   "display_name": "Python 3 (ipykernel)",
   "language": "python",
   "name": "python3"
  },
  "language_info": {
   "codemirror_mode": {
    "name": "ipython",
    "version": 3
   },
   "file_extension": ".py",
   "mimetype": "text/x-python",
   "name": "python",
   "nbconvert_exporter": "python",
   "pygments_lexer": "ipython3",
   "version": "3.10.9"
  }
 },
 "nbformat": 4,
 "nbformat_minor": 5
}
