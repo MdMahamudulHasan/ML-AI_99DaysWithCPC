{
 "cells": [
  {
   "cell_type": "markdown",
   "id": "6b2a3ffb",
   "metadata": {},
   "source": [
    "### Where to collect the Data?\n",
    "#### 1. Kaggle\n",
    "#### 2. UCI Machine Learning Repository\n",
    "#### 3. Google Dataset Search"
   ]
  },
  {
   "cell_type": "markdown",
   "id": "0343d5ac",
   "metadata": {},
   "source": [
    "API - Application Programming Interface"
   ]
  },
  {
   "cell_type": "markdown",
   "id": "92ce66e8",
   "metadata": {},
   "source": [
    "#### Installing the kaggole library"
   ]
  },
  {
   "cell_type": "code",
   "execution_count": 2,
   "id": "3222f5a6",
   "metadata": {},
   "outputs": [],
   "source": [
    "# !pip install kaggle"
   ]
  },
  {
   "cell_type": "markdown",
   "id": "abae1cd9",
   "metadata": {},
   "source": [
    "#### Upload kaggle.json file"
   ]
  },
  {
   "cell_type": "code",
   "execution_count": 3,
   "id": "6b0e08ca",
   "metadata": {},
   "outputs": [],
   "source": [
    "# configuring the path of kaggle.json file\n",
    "# already done in my pc"
   ]
  },
  {
   "cell_type": "markdown",
   "id": "1a93eee0",
   "metadata": {},
   "source": [
    "#### Importing the Earthquake Dataset"
   ]
  },
  {
   "cell_type": "code",
   "execution_count": 5,
   "id": "cbcb8dbc",
   "metadata": {},
   "outputs": [],
   "source": [
    "# API to fetch the dataset from kaggle\n",
    "# add data set API\n",
    "# ! kaggle competitions download -c LANL-Earthquake-Prediction"
   ]
  },
  {
   "cell_type": "code",
   "execution_count": null,
   "id": "904450d6",
   "metadata": {},
   "outputs": [],
   "source": []
  }
 ],
 "metadata": {
  "kernelspec": {
   "display_name": "Python 3 (ipykernel)",
   "language": "python",
   "name": "python3"
  },
  "language_info": {
   "codemirror_mode": {
    "name": "ipython",
    "version": 3
   },
   "file_extension": ".py",
   "mimetype": "text/x-python",
   "name": "python",
   "nbconvert_exporter": "python",
   "pygments_lexer": "ipython3",
   "version": "3.10.9"
  }
 },
 "nbformat": 4,
 "nbformat_minor": 5
}
