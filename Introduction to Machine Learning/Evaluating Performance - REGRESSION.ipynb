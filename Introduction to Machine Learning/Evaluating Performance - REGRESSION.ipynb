{
 "cells": [
  {
   "cell_type": "markdown",
   "id": "bd18aa22",
   "metadata": {},
   "source": [
    "#### Regression is a task when a model attempts to predict continuous values (unlike categorical values, which is classification)"
   ]
  },
  {
   "cell_type": "markdown",
   "id": "9f09e9ac",
   "metadata": {},
   "source": [
    "#### Let's discuss some of the most common evaluation metrics for regression:<br>\n",
    "-> Mean Absolute Error<br>\n",
    "-> Mean Squared Error<br>\n",
    "-> Root Mean Square Error"
   ]
  },
  {
   "cell_type": "markdown",
   "id": "7dd0b5dc",
   "metadata": {},
   "source": [
    "#### Mean Absolute Error\n",
    "This is mean of the absolute value of errors."
   ]
  },
  {
   "cell_type": "markdown",
   "id": "4fc2be27",
   "metadata": {},
   "source": [
    "#### Mean Squared Error (MSE)\n",
    "This is the mean of the squared errors.<br>Larger errors are more than with MAE, making MSE more popular."
   ]
  },
  {
   "cell_type": "markdown",
   "id": "709be432",
   "metadata": {},
   "source": [
    "#### Root mean Square Error (RMSE)\n",
    "This is the root of the mean of the squared errors.<br>Most popular(has same units as y)"
   ]
  },
  {
   "cell_type": "code",
   "execution_count": null,
   "id": "5d81cdb8",
   "metadata": {},
   "outputs": [],
   "source": []
  }
 ],
 "metadata": {
  "kernelspec": {
   "display_name": "Python 3 (ipykernel)",
   "language": "python",
   "name": "python3"
  },
  "language_info": {
   "codemirror_mode": {
    "name": "ipython",
    "version": 3
   },
   "file_extension": ".py",
   "mimetype": "text/x-python",
   "name": "python",
   "nbconvert_exporter": "python",
   "pygments_lexer": "ipython3",
   "version": "3.10.9"
  }
 },
 "nbformat": 4,
 "nbformat_minor": 5
}
