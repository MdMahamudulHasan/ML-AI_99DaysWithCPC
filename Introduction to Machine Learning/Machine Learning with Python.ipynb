{
 "cells": [
  {
   "cell_type": "markdown",
   "id": "3cf55f4f",
   "metadata": {},
   "source": [
    "# It is a overview of Machine learning\n",
    "## Scikit Learn"
   ]
  },
  {
   "cell_type": "markdown",
   "id": "c3949721",
   "metadata": {},
   "source": [
    "Every algorithm is exposed in scikit-learn via an \"Estimator\"<br>First you'll import the model, the general from is:<br>\n",
    "#### sklearn.family import Model\n",
    "For example:\n",
    "#### sklearn.linear_model import LinearRegression"
   ]
  },
  {
   "cell_type": "markdown",
   "id": "bd402322",
   "metadata": {},
   "source": [
    "### Estimator Parameters\n",
    "All the parameters of an estimator can be set when it is instantiated, and have suitable default values."
   ]
  },
  {
   "cell_type": "markdown",
   "id": "31e5960b",
   "metadata": {},
   "source": [
    "Once you have your model created with your parameters, it is time to fit your model on some data.<br>But remember, we should split this data into a training set and a test set.\n",
    "#### from sklearn.cross_validation import train_test_split\n",
    "#### x_train, x_test, y_train, y_test = train_test_split (x , y, test_size = 0.3)"
   ]
  },
  {
   "cell_type": "markdown",
   "id": "a0b91976",
   "metadata": {},
   "source": [
    "Now that we have split the data, we can train/fit our model on training data.<br>This is through the model.fit() method:\n",
    "#### model.fit(X_train, y_train)-> supervised estimator<br> mode.fit(x_train) -> unsupervised estimator"
   ]
  },
  {
   "cell_type": "markdown",
   "id": "1f9eb3d2",
   "metadata": {},
   "source": [
    "Now the model has been fit and trained on training data.<br>The model is ready to predict labels or values on the test set."
   ]
  },
  {
   "cell_type": "markdown",
   "id": "a0da970b",
   "metadata": {},
   "source": [
    "We git predicted values using the predict method:\n",
    "\n",
    "#### Supervised estimator<br><br>model.predict(X_new)---used for prediction<br> model.predict_proba()-----used for classification problem\n",
    "#### Unsupervised estimator<br><br>model.predict()---predict labels in clustering algorithms.<br>model.score()----used for classification ore regression problems.<br>model.transform()--given an unsupervised model, transform new data into new basis.<br>model.fit_transform()--- some estimators implement this method."
   ]
  },
  {
   "cell_type": "markdown",
   "id": "2e7c29a9",
   "metadata": {},
   "source": [
    "We can then evaluate our model by comparing our predictions to the correct values.<br> The evaluation method depends on what sort of machine learning algorithm we are using (Regression, Classification, Clustering.etc)"
   ]
  },
  {
   "cell_type": "code",
   "execution_count": null,
   "id": "7387edfb",
   "metadata": {},
   "outputs": [],
   "source": []
  }
 ],
 "metadata": {
  "kernelspec": {
   "display_name": "Python 3 (ipykernel)",
   "language": "python",
   "name": "python3"
  },
  "language_info": {
   "codemirror_mode": {
    "name": "ipython",
    "version": 3
   },
   "file_extension": ".py",
   "mimetype": "text/x-python",
   "name": "python",
   "nbconvert_exporter": "python",
   "pygments_lexer": "ipython3",
   "version": "3.10.9"
  }
 },
 "nbformat": 4,
 "nbformat_minor": 5
}
