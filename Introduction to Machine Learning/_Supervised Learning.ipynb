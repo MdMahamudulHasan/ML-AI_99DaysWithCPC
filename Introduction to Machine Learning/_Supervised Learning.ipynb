{
 "cells": [
  {
   "cell_type": "markdown",
   "id": "4268bf6e",
   "metadata": {},
   "source": [
    "#### Supervised learning algorithms are trained using labeled examples, such as an input where he desired output is known.\n",
    "\n",
    "For example, a segment of text could have a category label, such as:\n",
    "1. Spam vs Legitimate Email\n",
    "2. Positive vs Negative Movie Review\n",
    "\n",
    "#### Supervised learning is commonly used in applicationss where historical data predicts likely future events."
   ]
  },
  {
   "cell_type": "markdown",
   "id": "daa1c07e",
   "metadata": {},
   "source": [
    "## Machine Learning Process\n",
    "#### 1. Data Acquisition\n",
    "Get your data! Customers, Sensors, etc.....\n",
    "#### 2.  Data Cleaning \n",
    "Clean and format your data(Using Pandas).\n",
    "#### 3.1 Test Data and Training Data\n",
    "For large Dataset 30% test data and 70% train data.\n",
    "#### 4 Model Training and Building\n",
    "Train model to dataset using trainging data\n",
    "#### 5 & 3.2 Model Testing\n",
    "Using test data, testing the model for know that how well model actually perform. get model prediction and comparete right answer.\n",
    "#### Return to 4\n",
    "Adjust Model Parameters\n",
    "#### Final step is Model Deployment\n",
    "After getting perfect model need to deployment."
   ]
  },
  {
   "cell_type": "markdown",
   "id": "b592756b",
   "metadata": {},
   "source": [
    "## Data often split into 3 sets\n",
    "#### Training Data\n",
    "-> Used to train model parameters\n",
    "#### Validation Data\n",
    "-> Used to determine what model hyparameters to adjust\n",
    "#### Test Data\n",
    "-> Used to get some final performance metric"
   ]
  },
  {
   "cell_type": "code",
   "execution_count": null,
   "id": "ff3ef32f",
   "metadata": {},
   "outputs": [],
   "source": []
  }
 ],
 "metadata": {
  "kernelspec": {
   "display_name": "Python 3 (ipykernel)",
   "language": "python",
   "name": "python3"
  },
  "language_info": {
   "codemirror_mode": {
    "name": "ipython",
    "version": 3
   },
   "file_extension": ".py",
   "mimetype": "text/x-python",
   "name": "python",
   "nbconvert_exporter": "python",
   "pygments_lexer": "ipython3",
   "version": "3.10.9"
  }
 },
 "nbformat": 4,
 "nbformat_minor": 5
}
