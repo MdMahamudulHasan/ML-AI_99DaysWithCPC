{
 "cells": [
  {
   "cell_type": "markdown",
   "id": "7a430e5f",
   "metadata": {},
   "source": [
    "## Recommender Systems "
   ]
  },
  {
   "cell_type": "markdown",
   "id": "8ab88e28",
   "metadata": {},
   "source": [
    "Fully developed and deployed recommendation systems are extremely complex and resource intensive."
   ]
  },
  {
   "cell_type": "markdown",
   "id": "1e0f41f8",
   "metadata": {},
   "source": [
    "We have two notebooks for this section of the course:\n",
    "> Recommender Systems with Python\n",
    "\n",
    "> Advanced Recommender Systems with Python"
   ]
  },
  {
   "cell_type": "markdown",
   "id": "e83d222b",
   "metadata": {},
   "source": [
    "Since full recommender systems require a heavy linear algebra background the Advanced Recommender System notebook is provided as an optional resource"
   ]
  },
  {
   "cell_type": "markdown",
   "id": "353018a4",
   "metadata": {},
   "source": [
    "#### The two most common types of recommender systems are Content-Based and Collaborative Filtering (CF).\n",
    "> Collaborative filtering produces recommendations based on the knowledge of users, attitude to items, that is it uses the \"wisdom of the crowd\" to recommend items.\n",
    "\n",
    "> Content-based recommender systems focus on the attributes of the items and give you recommendations based on the similarity between them."
   ]
  },
  {
   "cell_type": "markdown",
   "id": "fb1d45c4",
   "metadata": {},
   "source": [
    "In general, Collaborative filtering (CF) is more commonly used than content-based systems because it usually gives better results and is relatively easy to understand (from an overall implementation perspective)."
   ]
  },
  {
   "cell_type": "markdown",
   "id": "2f052787",
   "metadata": {},
   "source": [
    "The algorithm has the ability to do feature learning on its own, which means that it can start to learn for itself what features to use."
   ]
  },
  {
   "cell_type": "markdown",
   "id": "64c2d23b",
   "metadata": {},
   "source": [
    "CF can be divided into Memory-Based Collaborative Filtering and Model-Based Collaborative filtering."
   ]
  },
  {
   "cell_type": "code",
   "execution_count": null,
   "id": "b7984cbf",
   "metadata": {},
   "outputs": [],
   "source": []
  }
 ],
 "metadata": {
  "kernelspec": {
   "display_name": "Python 3 (ipykernel)",
   "language": "python",
   "name": "python3"
  },
  "language_info": {
   "codemirror_mode": {
    "name": "ipython",
    "version": 3
   },
   "file_extension": ".py",
   "mimetype": "text/x-python",
   "name": "python",
   "nbconvert_exporter": "python",
   "pygments_lexer": "ipython3",
   "version": "3.10.9"
  }
 },
 "nbformat": 4,
 "nbformat_minor": 5
}
